{
  "nbformat": 4,
  "nbformat_minor": 0,
  "metadata": {
    "kernelspec": {
      "display_name": "Python 3",
      "language": "python",
      "name": "python3"
    },
    "language_info": {
      "codemirror_mode": {
        "name": "ipython",
        "version": 3
      },
      "file_extension": ".py",
      "mimetype": "text/x-python",
      "name": "python",
      "nbconvert_exporter": "python",
      "pygments_lexer": "ipython3",
      "version": "3.6.6"
    },
    "colab": {
      "name": "Individual_Notebook_Hotel Booking Analysis -EDA(Capstone Project 1)",
      "provenance": [],
      "collapsed_sections": [],
      "include_colab_link": true
    }
  },
  "cells": [
    {
      "cell_type": "markdown",
      "metadata": {
        "id": "view-in-github",
        "colab_type": "text"
      },
      "source": [
        "<a href=\"https://colab.research.google.com/github/meena25091992/Meenakshi-Hotel-Booking/blob/main/Individual_Notebook_Hotel_Booking_Analysis_EDA(Capstone_Project_1).ipynb\" target=\"_parent\"><img src=\"https://colab.research.google.com/assets/colab-badge.svg\" alt=\"Open In Colab\"/></a>"
      ]
    },
    {
      "cell_type": "markdown",
      "metadata": {
        "id": "Y06xIdG26kRF"
      },
      "source": [
        "## <b> Have you ever wondered when the best time of year to book a hotel room is? Or the optimal length of stay in order to get the best daily rate? What if you wanted to predict whether or not a hotel was likely to receive a disproportionately high number of special requests? This hotel booking dataset can help you explore those questions!\n",
        "\n",
        "## <b>This data set contains booking information for a city hotel and a resort hotel, and includes information such as when the booking was made, length of stay, the number of adults, children, and/or babies, and the number of available parking spaces, among other things. All personally identifying information has been removed from the data. </b>\n",
        "\n",
        "## <b> Explore and analyze the data to discover important factors that govern the bookings. </b>"
      ]
    },
    {
      "cell_type": "markdown",
      "metadata": {
        "id": "_dUGqoaLsX5Y"
      },
      "source": [
        "# Introduction :-"
      ]
    },
    {
      "cell_type": "markdown",
      "metadata": {
        "id": "rmy4Fxf2sXzn"
      },
      "source": [
        "* This data set contains booking information for a City hotel and a Resort hotel.It includes information such as when the booking was made, length of stay, the number of adults, children, and/or babies, any special request for babies,bookings cancelled, average daily rate, meal type and the number of available parking spaces, among other things.\n",
        "\n"
      ]
    },
    {
      "cell_type": "markdown",
      "metadata": {
        "id": "MN5ecC6Iwg6R"
      },
      "source": [
        "# **This dataset contains the following features:-**\n",
        "\n",
        "1.  hotel  ----> City hotel and Resort hotel\n",
        "2.  is_canceled   ----> check booking is canceled or not 0 for non-cancelled and 1 for canceled status.\n",
        "3.  lead_time  ----> Number of days elapsed between the date of booking and date of arrival.\n",
        "4.  arrival_date_year\n",
        "5.  arrival_date_month\n",
        "6.  arrival_date_week_number\n",
        "7.  arrival_date_day_of_month\n",
        "8.  stays_in_weekend_nights\n",
        "9.  stays_in_week_nights\n",
        "10. adults\n",
        "11. children\n",
        "12. babies\n",
        "13. meal   ---> meal provided to the guests.4 types: SC(Self Catering) , HB(Half Board) , FB(Full Board) , BB(Bed & Breakfast).\n",
        "14. country  ----> It contains the country of the origin of the customer.\n",
        "15. market_segment   ----> Contains the market segment customer belongs to.\n",
        "16. distribution_channel  ----> distribution channel used to make the bookings.\n",
        "17. is_repeated_guest  ----> contains value indicating if the guest has had the stay at same hotel (1) before or not(0) \n",
        "18. previous_cancellations\n",
        "19. previous_bookings_not_canceled\n",
        "20. reserved_room_type\n",
        "21. assigned_room_type\n",
        "22. booking_changes\n",
        "23. deposit_type\n",
        "24. agent\n",
        "25. company\n",
        "26. days_in_waiting_list  ----> contains the number of days spent by customer on waiting list\n",
        "27. customer_type\n",
        "28. adr ----> average daily rate(Cost of booking per day)\n",
        "29. required_car_parking_spaces\n",
        "30. total_of_special_requests  ----> contains the total number of special request or any special services needed by guest when they are travelling with a child or baby.\n",
        "31. reservation_status\n",
        "32. reservation_status_date\n",
        "\n",
        "\n",
        "\n"
      ]
    },
    {
      "cell_type": "code",
      "metadata": {
        "id": "dByMsuzT8Tnw"
      },
      "source": [
        "#  import all required libraries\n",
        "\n",
        "import pandas as pd\n",
        "import numpy as np\n",
        "import seaborn as sns\n",
        "import matplotlib.pyplot as plt\n",
        "%matplotlib inline\n",
        "plt.rcParams['figure.figsize'] = (13,7) # It is used to set the graph size\n",
        "from warnings import filterwarnings\n",
        "filterwarnings('ignore')"
      ],
      "execution_count": 11,
      "outputs": []
    },
    {
      "cell_type": "code",
      "metadata": {
        "colab": {
          "base_uri": "https://localhost:8080/"
        },
        "id": "tlH8n6HHnI7n",
        "outputId": "64cb83db-6b09-4543-dbc5-60d260a03fd4"
      },
      "source": [
        "#  mounting google drive to load our dataset\n",
        "\n",
        "from google.colab import drive\n",
        "drive.mount('/content/drive',force_remount=True)"
      ],
      "execution_count": 12,
      "outputs": [
        {
          "output_type": "stream",
          "name": "stdout",
          "text": [
            "Mounted at /content/drive\n"
          ]
        }
      ]
    },
    {
      "cell_type": "code",
      "metadata": {
        "id": "Sso_IRWInxyV"
      },
      "source": [
        "#  link the dataset path and read csv file\n",
        "\n",
        "working_directory = '/content/drive/MyDrive/Meenakshi_First_Capestone_Project_EDA/'\n",
        "hotel_df = pd.read_csv(working_directory + 'Hotel Bookings.csv') "
      ],
      "execution_count": 13,
      "outputs": []
    },
    {
      "cell_type": "code",
      "metadata": {
        "colab": {
          "base_uri": "https://localhost:8080/"
        },
        "id": "c-xzT7SWoEfF",
        "outputId": "5bdfb19e-524d-492d-be56-30274e13b622"
      },
      "source": [
        "hotel_df.shape   #  geting the total no. of rows and columns by using \"shape\" method of our dataframe"
      ],
      "execution_count": 14,
      "outputs": [
        {
          "output_type": "execute_result",
          "data": {
            "text/plain": [
              "(119390, 32)"
            ]
          },
          "metadata": {},
          "execution_count": 14
        }
      ]
    },
    {
      "cell_type": "code",
      "metadata": {
        "colab": {
          "base_uri": "https://localhost:8080/"
        },
        "id": "lX68aJFDoSGQ",
        "outputId": "3ab77882-0b36-4409-fb57-a105dd26a331"
      },
      "source": [
        "hotel_df.info()  #  getting information about the datatypes and null values stored at each column by using \"info()\" method"
      ],
      "execution_count": 15,
      "outputs": [
        {
          "output_type": "stream",
          "name": "stdout",
          "text": [
            "<class 'pandas.core.frame.DataFrame'>\n",
            "RangeIndex: 119390 entries, 0 to 119389\n",
            "Data columns (total 32 columns):\n",
            " #   Column                          Non-Null Count   Dtype  \n",
            "---  ------                          --------------   -----  \n",
            " 0   hotel                           119390 non-null  object \n",
            " 1   is_canceled                     119390 non-null  int64  \n",
            " 2   lead_time                       119390 non-null  int64  \n",
            " 3   arrival_date_year               119390 non-null  int64  \n",
            " 4   arrival_date_month              119390 non-null  object \n",
            " 5   arrival_date_week_number        119390 non-null  int64  \n",
            " 6   arrival_date_day_of_month       119390 non-null  int64  \n",
            " 7   stays_in_weekend_nights         119390 non-null  int64  \n",
            " 8   stays_in_week_nights            119390 non-null  int64  \n",
            " 9   adults                          119390 non-null  int64  \n",
            " 10  children                        119386 non-null  float64\n",
            " 11  babies                          119390 non-null  int64  \n",
            " 12  meal                            119390 non-null  object \n",
            " 13  country                         118902 non-null  object \n",
            " 14  market_segment                  119390 non-null  object \n",
            " 15  distribution_channel            119390 non-null  object \n",
            " 16  is_repeated_guest               119390 non-null  int64  \n",
            " 17  previous_cancellations          119390 non-null  int64  \n",
            " 18  previous_bookings_not_canceled  119390 non-null  int64  \n",
            " 19  reserved_room_type              119390 non-null  object \n",
            " 20  assigned_room_type              119390 non-null  object \n",
            " 21  booking_changes                 119390 non-null  int64  \n",
            " 22  deposit_type                    119390 non-null  object \n",
            " 23  agent                           103050 non-null  float64\n",
            " 24  company                         6797 non-null    float64\n",
            " 25  days_in_waiting_list            119390 non-null  int64  \n",
            " 26  customer_type                   119390 non-null  object \n",
            " 27  adr                             119390 non-null  float64\n",
            " 28  required_car_parking_spaces     119390 non-null  int64  \n",
            " 29  total_of_special_requests       119390 non-null  int64  \n",
            " 30  reservation_status              119390 non-null  object \n",
            " 31  reservation_status_date         119390 non-null  object \n",
            "dtypes: float64(4), int64(16), object(12)\n",
            "memory usage: 29.1+ MB\n"
          ]
        }
      ]
    },
    {
      "cell_type": "code",
      "metadata": {
        "colab": {
          "base_uri": "https://localhost:8080/"
        },
        "id": "z5mSMZpGo1qF",
        "outputId": "901654b0-80ed-49fd-9c2a-2fd4015b8a71"
      },
      "source": [
        "hotel_df.columns  #  getting the names of all the columns in our dataset"
      ],
      "execution_count": 16,
      "outputs": [
        {
          "output_type": "execute_result",
          "data": {
            "text/plain": [
              "Index(['hotel', 'is_canceled', 'lead_time', 'arrival_date_year',\n",
              "       'arrival_date_month', 'arrival_date_week_number',\n",
              "       'arrival_date_day_of_month', 'stays_in_weekend_nights',\n",
              "       'stays_in_week_nights', 'adults', 'children', 'babies', 'meal',\n",
              "       'country', 'market_segment', 'distribution_channel',\n",
              "       'is_repeated_guest', 'previous_cancellations',\n",
              "       'previous_bookings_not_canceled', 'reserved_room_type',\n",
              "       'assigned_room_type', 'booking_changes', 'deposit_type', 'agent',\n",
              "       'company', 'days_in_waiting_list', 'customer_type', 'adr',\n",
              "       'required_car_parking_spaces', 'total_of_special_requests',\n",
              "       'reservation_status', 'reservation_status_date'],\n",
              "      dtype='object')"
            ]
          },
          "metadata": {},
          "execution_count": 16
        }
      ]
    },
    {
      "cell_type": "code",
      "metadata": {
        "colab": {
          "base_uri": "https://localhost:8080/",
          "height": 312
        },
        "id": "DZ7z2IQMnbo0",
        "outputId": "c2c40d53-8635-4844-dba5-2bf0e4ab21a1"
      },
      "source": [
        "hotel_df.head()  #  fetch first five rows by using head() method of dataframe"
      ],
      "execution_count": 17,
      "outputs": [
        {
          "output_type": "execute_result",
          "data": {
            "text/html": [
              "<div>\n",
              "<style scoped>\n",
              "    .dataframe tbody tr th:only-of-type {\n",
              "        vertical-align: middle;\n",
              "    }\n",
              "\n",
              "    .dataframe tbody tr th {\n",
              "        vertical-align: top;\n",
              "    }\n",
              "\n",
              "    .dataframe thead th {\n",
              "        text-align: right;\n",
              "    }\n",
              "</style>\n",
              "<table border=\"1\" class=\"dataframe\">\n",
              "  <thead>\n",
              "    <tr style=\"text-align: right;\">\n",
              "      <th></th>\n",
              "      <th>hotel</th>\n",
              "      <th>is_canceled</th>\n",
              "      <th>lead_time</th>\n",
              "      <th>arrival_date_year</th>\n",
              "      <th>arrival_date_month</th>\n",
              "      <th>arrival_date_week_number</th>\n",
              "      <th>arrival_date_day_of_month</th>\n",
              "      <th>stays_in_weekend_nights</th>\n",
              "      <th>stays_in_week_nights</th>\n",
              "      <th>adults</th>\n",
              "      <th>children</th>\n",
              "      <th>babies</th>\n",
              "      <th>meal</th>\n",
              "      <th>country</th>\n",
              "      <th>market_segment</th>\n",
              "      <th>distribution_channel</th>\n",
              "      <th>is_repeated_guest</th>\n",
              "      <th>previous_cancellations</th>\n",
              "      <th>previous_bookings_not_canceled</th>\n",
              "      <th>reserved_room_type</th>\n",
              "      <th>assigned_room_type</th>\n",
              "      <th>booking_changes</th>\n",
              "      <th>deposit_type</th>\n",
              "      <th>agent</th>\n",
              "      <th>company</th>\n",
              "      <th>days_in_waiting_list</th>\n",
              "      <th>customer_type</th>\n",
              "      <th>adr</th>\n",
              "      <th>required_car_parking_spaces</th>\n",
              "      <th>total_of_special_requests</th>\n",
              "      <th>reservation_status</th>\n",
              "      <th>reservation_status_date</th>\n",
              "    </tr>\n",
              "  </thead>\n",
              "  <tbody>\n",
              "    <tr>\n",
              "      <th>0</th>\n",
              "      <td>Resort Hotel</td>\n",
              "      <td>0</td>\n",
              "      <td>342</td>\n",
              "      <td>2015</td>\n",
              "      <td>July</td>\n",
              "      <td>27</td>\n",
              "      <td>1</td>\n",
              "      <td>0</td>\n",
              "      <td>0</td>\n",
              "      <td>2</td>\n",
              "      <td>0.0</td>\n",
              "      <td>0</td>\n",
              "      <td>BB</td>\n",
              "      <td>PRT</td>\n",
              "      <td>Direct</td>\n",
              "      <td>Direct</td>\n",
              "      <td>0</td>\n",
              "      <td>0</td>\n",
              "      <td>0</td>\n",
              "      <td>C</td>\n",
              "      <td>C</td>\n",
              "      <td>3</td>\n",
              "      <td>No Deposit</td>\n",
              "      <td>NaN</td>\n",
              "      <td>NaN</td>\n",
              "      <td>0</td>\n",
              "      <td>Transient</td>\n",
              "      <td>0.0</td>\n",
              "      <td>0</td>\n",
              "      <td>0</td>\n",
              "      <td>Check-Out</td>\n",
              "      <td>2015-07-01</td>\n",
              "    </tr>\n",
              "    <tr>\n",
              "      <th>1</th>\n",
              "      <td>Resort Hotel</td>\n",
              "      <td>0</td>\n",
              "      <td>737</td>\n",
              "      <td>2015</td>\n",
              "      <td>July</td>\n",
              "      <td>27</td>\n",
              "      <td>1</td>\n",
              "      <td>0</td>\n",
              "      <td>0</td>\n",
              "      <td>2</td>\n",
              "      <td>0.0</td>\n",
              "      <td>0</td>\n",
              "      <td>BB</td>\n",
              "      <td>PRT</td>\n",
              "      <td>Direct</td>\n",
              "      <td>Direct</td>\n",
              "      <td>0</td>\n",
              "      <td>0</td>\n",
              "      <td>0</td>\n",
              "      <td>C</td>\n",
              "      <td>C</td>\n",
              "      <td>4</td>\n",
              "      <td>No Deposit</td>\n",
              "      <td>NaN</td>\n",
              "      <td>NaN</td>\n",
              "      <td>0</td>\n",
              "      <td>Transient</td>\n",
              "      <td>0.0</td>\n",
              "      <td>0</td>\n",
              "      <td>0</td>\n",
              "      <td>Check-Out</td>\n",
              "      <td>2015-07-01</td>\n",
              "    </tr>\n",
              "    <tr>\n",
              "      <th>2</th>\n",
              "      <td>Resort Hotel</td>\n",
              "      <td>0</td>\n",
              "      <td>7</td>\n",
              "      <td>2015</td>\n",
              "      <td>July</td>\n",
              "      <td>27</td>\n",
              "      <td>1</td>\n",
              "      <td>0</td>\n",
              "      <td>1</td>\n",
              "      <td>1</td>\n",
              "      <td>0.0</td>\n",
              "      <td>0</td>\n",
              "      <td>BB</td>\n",
              "      <td>GBR</td>\n",
              "      <td>Direct</td>\n",
              "      <td>Direct</td>\n",
              "      <td>0</td>\n",
              "      <td>0</td>\n",
              "      <td>0</td>\n",
              "      <td>A</td>\n",
              "      <td>C</td>\n",
              "      <td>0</td>\n",
              "      <td>No Deposit</td>\n",
              "      <td>NaN</td>\n",
              "      <td>NaN</td>\n",
              "      <td>0</td>\n",
              "      <td>Transient</td>\n",
              "      <td>75.0</td>\n",
              "      <td>0</td>\n",
              "      <td>0</td>\n",
              "      <td>Check-Out</td>\n",
              "      <td>2015-07-02</td>\n",
              "    </tr>\n",
              "    <tr>\n",
              "      <th>3</th>\n",
              "      <td>Resort Hotel</td>\n",
              "      <td>0</td>\n",
              "      <td>13</td>\n",
              "      <td>2015</td>\n",
              "      <td>July</td>\n",
              "      <td>27</td>\n",
              "      <td>1</td>\n",
              "      <td>0</td>\n",
              "      <td>1</td>\n",
              "      <td>1</td>\n",
              "      <td>0.0</td>\n",
              "      <td>0</td>\n",
              "      <td>BB</td>\n",
              "      <td>GBR</td>\n",
              "      <td>Corporate</td>\n",
              "      <td>Corporate</td>\n",
              "      <td>0</td>\n",
              "      <td>0</td>\n",
              "      <td>0</td>\n",
              "      <td>A</td>\n",
              "      <td>A</td>\n",
              "      <td>0</td>\n",
              "      <td>No Deposit</td>\n",
              "      <td>304.0</td>\n",
              "      <td>NaN</td>\n",
              "      <td>0</td>\n",
              "      <td>Transient</td>\n",
              "      <td>75.0</td>\n",
              "      <td>0</td>\n",
              "      <td>0</td>\n",
              "      <td>Check-Out</td>\n",
              "      <td>2015-07-02</td>\n",
              "    </tr>\n",
              "    <tr>\n",
              "      <th>4</th>\n",
              "      <td>Resort Hotel</td>\n",
              "      <td>0</td>\n",
              "      <td>14</td>\n",
              "      <td>2015</td>\n",
              "      <td>July</td>\n",
              "      <td>27</td>\n",
              "      <td>1</td>\n",
              "      <td>0</td>\n",
              "      <td>2</td>\n",
              "      <td>2</td>\n",
              "      <td>0.0</td>\n",
              "      <td>0</td>\n",
              "      <td>BB</td>\n",
              "      <td>GBR</td>\n",
              "      <td>Online TA</td>\n",
              "      <td>TA/TO</td>\n",
              "      <td>0</td>\n",
              "      <td>0</td>\n",
              "      <td>0</td>\n",
              "      <td>A</td>\n",
              "      <td>A</td>\n",
              "      <td>0</td>\n",
              "      <td>No Deposit</td>\n",
              "      <td>240.0</td>\n",
              "      <td>NaN</td>\n",
              "      <td>0</td>\n",
              "      <td>Transient</td>\n",
              "      <td>98.0</td>\n",
              "      <td>0</td>\n",
              "      <td>1</td>\n",
              "      <td>Check-Out</td>\n",
              "      <td>2015-07-03</td>\n",
              "    </tr>\n",
              "  </tbody>\n",
              "</table>\n",
              "</div>"
            ],
            "text/plain": [
              "          hotel  is_canceled  ...  reservation_status  reservation_status_date\n",
              "0  Resort Hotel            0  ...           Check-Out               2015-07-01\n",
              "1  Resort Hotel            0  ...           Check-Out               2015-07-01\n",
              "2  Resort Hotel            0  ...           Check-Out               2015-07-02\n",
              "3  Resort Hotel            0  ...           Check-Out               2015-07-02\n",
              "4  Resort Hotel            0  ...           Check-Out               2015-07-03\n",
              "\n",
              "[5 rows x 32 columns]"
            ]
          },
          "metadata": {},
          "execution_count": 17
        }
      ]
    },
    {
      "cell_type": "markdown",
      "metadata": {
        "id": "YFFsVr358JFk"
      },
      "source": [
        "\n",
        "\n",
        "* **Make the copy of the dataframe so that we can do all the analysis on the copy of dataframe and original dataframe will remain unchanged and unaffected.**\n",
        "\n"
      ]
    },
    {
      "cell_type": "code",
      "metadata": {
        "id": "WycoFsE88Fic"
      },
      "source": [
        "#  Copy the original datframe into the new dataframe by using \"copy()\" method of dataframe\n",
        "hotel_booking_df =hotel_df.copy()"
      ],
      "execution_count": 18,
      "outputs": []
    },
    {
      "cell_type": "markdown",
      "metadata": {
        "id": "mytUeAVxNb6f"
      },
      "source": [
        "\n",
        "\n",
        "* **In our dataframe, We have many columns which is having null values and have duplicate data.So, we need to remove that data and clean our dataframe.**\n",
        "\n",
        "\n",
        "\n"
      ]
    },
    {
      "cell_type": "markdown",
      "metadata": {
        "id": "-dOd4qXMN6yK"
      },
      "source": [
        "# Data Cleaning : removing null and duplicate data "
      ]
    },
    {
      "cell_type": "markdown",
      "metadata": {
        "id": "q6kwsjm681BQ"
      },
      "source": [
        "\n",
        "\n",
        "* **In our dataframe, We have many columns which is having null values and duplicate data.So, we need to remove that data and clean our dataframe.**\n",
        "\n",
        "\n",
        "\n"
      ]
    },
    {
      "cell_type": "code",
      "metadata": {
        "colab": {
          "base_uri": "https://localhost:8080/"
        },
        "id": "Vi4X3j8bz_we",
        "outputId": "4a3437f5-3ac9-4a31-b51f-0a96602b8a0f"
      },
      "source": [
        "#  dropping the unnecessary columns by using drop() method of dataframe\n",
        "#  assigning it to dataframe variable itself \n",
        "\n",
        "hotel_booking_df = hotel_booking_df.drop(columns=['agent','company','reservation_status_date']) \n",
        "hotel_booking_df.shape"
      ],
      "execution_count": 19,
      "outputs": [
        {
          "output_type": "execute_result",
          "data": {
            "text/plain": [
              "(119390, 29)"
            ]
          },
          "metadata": {},
          "execution_count": 19
        }
      ]
    },
    {
      "cell_type": "markdown",
      "metadata": {
        "id": "N-0G2MKZ0tnD"
      },
      "source": [
        "\n",
        "\n",
        "* **Now, there are 29 columns left in our dataframe.**\n",
        "\n"
      ]
    },
    {
      "cell_type": "code",
      "metadata": {
        "colab": {
          "base_uri": "https://localhost:8080/"
        },
        "id": "oVBlC3tNQnrI",
        "outputId": "b3fc7834-9b9d-41e5-e86e-a55a69e4a51f"
      },
      "source": [
        "#  check if there is any duplicate rows or not by using duplicated() method of dataframe\n",
        "\n",
        "duplicate_rows_df = hotel_booking_df[hotel_booking_df.duplicated()]\n",
        "print(f\"The number of duplicate rows is : {duplicate_rows_df.shape}\") # printing total number of duplicate rows in our dataframe"
      ],
      "execution_count": 20,
      "outputs": [
        {
          "output_type": "stream",
          "name": "stdout",
          "text": [
            "The number of duplicate rows is : (32267, 29)\n"
          ]
        }
      ]
    },
    {
      "cell_type": "code",
      "metadata": {
        "id": "OzMOCJqPT970",
        "colab": {
          "base_uri": "https://localhost:8080/"
        },
        "outputId": "4e5d39ec-f23f-49be-df86-7658c074bbdb"
      },
      "source": [
        "#  count number of rows in each  by \"count()\" method of dataframe\n",
        "\n",
        "hotel_booking_df.count()"
      ],
      "execution_count": 21,
      "outputs": [
        {
          "output_type": "execute_result",
          "data": {
            "text/plain": [
              "hotel                             119390\n",
              "is_canceled                       119390\n",
              "lead_time                         119390\n",
              "arrival_date_year                 119390\n",
              "arrival_date_month                119390\n",
              "arrival_date_week_number          119390\n",
              "arrival_date_day_of_month         119390\n",
              "stays_in_weekend_nights           119390\n",
              "stays_in_week_nights              119390\n",
              "adults                            119390\n",
              "children                          119386\n",
              "babies                            119390\n",
              "meal                              119390\n",
              "country                           118902\n",
              "market_segment                    119390\n",
              "distribution_channel              119390\n",
              "is_repeated_guest                 119390\n",
              "previous_cancellations            119390\n",
              "previous_bookings_not_canceled    119390\n",
              "reserved_room_type                119390\n",
              "assigned_room_type                119390\n",
              "booking_changes                   119390\n",
              "deposit_type                      119390\n",
              "days_in_waiting_list              119390\n",
              "customer_type                     119390\n",
              "adr                               119390\n",
              "required_car_parking_spaces       119390\n",
              "total_of_special_requests         119390\n",
              "reservation_status                119390\n",
              "dtype: int64"
            ]
          },
          "metadata": {},
          "execution_count": 21
        }
      ]
    },
    {
      "cell_type": "markdown",
      "metadata": {
        "id": "A1N3vVN1-WII"
      },
      "source": [
        "\n",
        "\n",
        "\n",
        "\n",
        "\n",
        " \n",
        "* **Some rows have less data as compared to other rows.It means that there is lots of duplicate data in rows.So,we need to remove it to reduce our dataset.It helps in analysing and visualizing the dataset more efficiently and clearly.**\n",
        "\n",
        "\n",
        "\n",
        "\n"
      ]
    },
    {
      "cell_type": "code",
      "metadata": {
        "colab": {
          "base_uri": "https://localhost:8080/",
          "height": 312
        },
        "id": "e_dBkxm-UwIQ",
        "outputId": "ab932643-732a-490f-a9df-8f003aa01ded"
      },
      "source": [
        "#  drop duplicate rows by using \"drop_duplicates()\" method of dataframe\n",
        "hotel_booking_df = hotel_booking_df.drop_duplicates()\n",
        "hotel_booking_df.head()"
      ],
      "execution_count": 22,
      "outputs": [
        {
          "output_type": "execute_result",
          "data": {
            "text/html": [
              "<div>\n",
              "<style scoped>\n",
              "    .dataframe tbody tr th:only-of-type {\n",
              "        vertical-align: middle;\n",
              "    }\n",
              "\n",
              "    .dataframe tbody tr th {\n",
              "        vertical-align: top;\n",
              "    }\n",
              "\n",
              "    .dataframe thead th {\n",
              "        text-align: right;\n",
              "    }\n",
              "</style>\n",
              "<table border=\"1\" class=\"dataframe\">\n",
              "  <thead>\n",
              "    <tr style=\"text-align: right;\">\n",
              "      <th></th>\n",
              "      <th>hotel</th>\n",
              "      <th>is_canceled</th>\n",
              "      <th>lead_time</th>\n",
              "      <th>arrival_date_year</th>\n",
              "      <th>arrival_date_month</th>\n",
              "      <th>arrival_date_week_number</th>\n",
              "      <th>arrival_date_day_of_month</th>\n",
              "      <th>stays_in_weekend_nights</th>\n",
              "      <th>stays_in_week_nights</th>\n",
              "      <th>adults</th>\n",
              "      <th>children</th>\n",
              "      <th>babies</th>\n",
              "      <th>meal</th>\n",
              "      <th>country</th>\n",
              "      <th>market_segment</th>\n",
              "      <th>distribution_channel</th>\n",
              "      <th>is_repeated_guest</th>\n",
              "      <th>previous_cancellations</th>\n",
              "      <th>previous_bookings_not_canceled</th>\n",
              "      <th>reserved_room_type</th>\n",
              "      <th>assigned_room_type</th>\n",
              "      <th>booking_changes</th>\n",
              "      <th>deposit_type</th>\n",
              "      <th>days_in_waiting_list</th>\n",
              "      <th>customer_type</th>\n",
              "      <th>adr</th>\n",
              "      <th>required_car_parking_spaces</th>\n",
              "      <th>total_of_special_requests</th>\n",
              "      <th>reservation_status</th>\n",
              "    </tr>\n",
              "  </thead>\n",
              "  <tbody>\n",
              "    <tr>\n",
              "      <th>0</th>\n",
              "      <td>Resort Hotel</td>\n",
              "      <td>0</td>\n",
              "      <td>342</td>\n",
              "      <td>2015</td>\n",
              "      <td>July</td>\n",
              "      <td>27</td>\n",
              "      <td>1</td>\n",
              "      <td>0</td>\n",
              "      <td>0</td>\n",
              "      <td>2</td>\n",
              "      <td>0.0</td>\n",
              "      <td>0</td>\n",
              "      <td>BB</td>\n",
              "      <td>PRT</td>\n",
              "      <td>Direct</td>\n",
              "      <td>Direct</td>\n",
              "      <td>0</td>\n",
              "      <td>0</td>\n",
              "      <td>0</td>\n",
              "      <td>C</td>\n",
              "      <td>C</td>\n",
              "      <td>3</td>\n",
              "      <td>No Deposit</td>\n",
              "      <td>0</td>\n",
              "      <td>Transient</td>\n",
              "      <td>0.0</td>\n",
              "      <td>0</td>\n",
              "      <td>0</td>\n",
              "      <td>Check-Out</td>\n",
              "    </tr>\n",
              "    <tr>\n",
              "      <th>1</th>\n",
              "      <td>Resort Hotel</td>\n",
              "      <td>0</td>\n",
              "      <td>737</td>\n",
              "      <td>2015</td>\n",
              "      <td>July</td>\n",
              "      <td>27</td>\n",
              "      <td>1</td>\n",
              "      <td>0</td>\n",
              "      <td>0</td>\n",
              "      <td>2</td>\n",
              "      <td>0.0</td>\n",
              "      <td>0</td>\n",
              "      <td>BB</td>\n",
              "      <td>PRT</td>\n",
              "      <td>Direct</td>\n",
              "      <td>Direct</td>\n",
              "      <td>0</td>\n",
              "      <td>0</td>\n",
              "      <td>0</td>\n",
              "      <td>C</td>\n",
              "      <td>C</td>\n",
              "      <td>4</td>\n",
              "      <td>No Deposit</td>\n",
              "      <td>0</td>\n",
              "      <td>Transient</td>\n",
              "      <td>0.0</td>\n",
              "      <td>0</td>\n",
              "      <td>0</td>\n",
              "      <td>Check-Out</td>\n",
              "    </tr>\n",
              "    <tr>\n",
              "      <th>2</th>\n",
              "      <td>Resort Hotel</td>\n",
              "      <td>0</td>\n",
              "      <td>7</td>\n",
              "      <td>2015</td>\n",
              "      <td>July</td>\n",
              "      <td>27</td>\n",
              "      <td>1</td>\n",
              "      <td>0</td>\n",
              "      <td>1</td>\n",
              "      <td>1</td>\n",
              "      <td>0.0</td>\n",
              "      <td>0</td>\n",
              "      <td>BB</td>\n",
              "      <td>GBR</td>\n",
              "      <td>Direct</td>\n",
              "      <td>Direct</td>\n",
              "      <td>0</td>\n",
              "      <td>0</td>\n",
              "      <td>0</td>\n",
              "      <td>A</td>\n",
              "      <td>C</td>\n",
              "      <td>0</td>\n",
              "      <td>No Deposit</td>\n",
              "      <td>0</td>\n",
              "      <td>Transient</td>\n",
              "      <td>75.0</td>\n",
              "      <td>0</td>\n",
              "      <td>0</td>\n",
              "      <td>Check-Out</td>\n",
              "    </tr>\n",
              "    <tr>\n",
              "      <th>3</th>\n",
              "      <td>Resort Hotel</td>\n",
              "      <td>0</td>\n",
              "      <td>13</td>\n",
              "      <td>2015</td>\n",
              "      <td>July</td>\n",
              "      <td>27</td>\n",
              "      <td>1</td>\n",
              "      <td>0</td>\n",
              "      <td>1</td>\n",
              "      <td>1</td>\n",
              "      <td>0.0</td>\n",
              "      <td>0</td>\n",
              "      <td>BB</td>\n",
              "      <td>GBR</td>\n",
              "      <td>Corporate</td>\n",
              "      <td>Corporate</td>\n",
              "      <td>0</td>\n",
              "      <td>0</td>\n",
              "      <td>0</td>\n",
              "      <td>A</td>\n",
              "      <td>A</td>\n",
              "      <td>0</td>\n",
              "      <td>No Deposit</td>\n",
              "      <td>0</td>\n",
              "      <td>Transient</td>\n",
              "      <td>75.0</td>\n",
              "      <td>0</td>\n",
              "      <td>0</td>\n",
              "      <td>Check-Out</td>\n",
              "    </tr>\n",
              "    <tr>\n",
              "      <th>4</th>\n",
              "      <td>Resort Hotel</td>\n",
              "      <td>0</td>\n",
              "      <td>14</td>\n",
              "      <td>2015</td>\n",
              "      <td>July</td>\n",
              "      <td>27</td>\n",
              "      <td>1</td>\n",
              "      <td>0</td>\n",
              "      <td>2</td>\n",
              "      <td>2</td>\n",
              "      <td>0.0</td>\n",
              "      <td>0</td>\n",
              "      <td>BB</td>\n",
              "      <td>GBR</td>\n",
              "      <td>Online TA</td>\n",
              "      <td>TA/TO</td>\n",
              "      <td>0</td>\n",
              "      <td>0</td>\n",
              "      <td>0</td>\n",
              "      <td>A</td>\n",
              "      <td>A</td>\n",
              "      <td>0</td>\n",
              "      <td>No Deposit</td>\n",
              "      <td>0</td>\n",
              "      <td>Transient</td>\n",
              "      <td>98.0</td>\n",
              "      <td>0</td>\n",
              "      <td>1</td>\n",
              "      <td>Check-Out</td>\n",
              "    </tr>\n",
              "  </tbody>\n",
              "</table>\n",
              "</div>"
            ],
            "text/plain": [
              "          hotel  is_canceled  ...  total_of_special_requests  reservation_status\n",
              "0  Resort Hotel            0  ...                          0           Check-Out\n",
              "1  Resort Hotel            0  ...                          0           Check-Out\n",
              "2  Resort Hotel            0  ...                          0           Check-Out\n",
              "3  Resort Hotel            0  ...                          0           Check-Out\n",
              "4  Resort Hotel            0  ...                          1           Check-Out\n",
              "\n",
              "[5 rows x 29 columns]"
            ]
          },
          "metadata": {},
          "execution_count": 22
        }
      ]
    },
    {
      "cell_type": "code",
      "metadata": {
        "colab": {
          "base_uri": "https://localhost:8080/"
        },
        "id": "uNLlIG0zVjZ0",
        "outputId": "0046a301-d145-44e0-ebb0-87b2ce758e38"
      },
      "source": [
        "#  Now, Use count method again to count no. of rows left for each column after removing duplicate rows \n",
        "\n",
        "hotel_booking_df.count()"
      ],
      "execution_count": 23,
      "outputs": [
        {
          "output_type": "execute_result",
          "data": {
            "text/plain": [
              "hotel                             87123\n",
              "is_canceled                       87123\n",
              "lead_time                         87123\n",
              "arrival_date_year                 87123\n",
              "arrival_date_month                87123\n",
              "arrival_date_week_number          87123\n",
              "arrival_date_day_of_month         87123\n",
              "stays_in_weekend_nights           87123\n",
              "stays_in_week_nights              87123\n",
              "adults                            87123\n",
              "children                          87119\n",
              "babies                            87123\n",
              "meal                              87123\n",
              "country                           86672\n",
              "market_segment                    87123\n",
              "distribution_channel              87123\n",
              "is_repeated_guest                 87123\n",
              "previous_cancellations            87123\n",
              "previous_bookings_not_canceled    87123\n",
              "reserved_room_type                87123\n",
              "assigned_room_type                87123\n",
              "booking_changes                   87123\n",
              "deposit_type                      87123\n",
              "days_in_waiting_list              87123\n",
              "customer_type                     87123\n",
              "adr                               87123\n",
              "required_car_parking_spaces       87123\n",
              "total_of_special_requests         87123\n",
              "reservation_status                87123\n",
              "dtype: int64"
            ]
          },
          "metadata": {},
          "execution_count": 23
        }
      ]
    },
    {
      "cell_type": "markdown",
      "metadata": {
        "id": "klmk8ORCWEh2"
      },
      "source": [
        "* **So, We have seen that there is lots of duplicate data in our dataframe.It is beneficial to remove it to make dataset more undertsandable and clear.** "
      ]
    },
    {
      "cell_type": "code",
      "metadata": {
        "colab": {
          "base_uri": "https://localhost:8080/"
        },
        "id": "z-eo5R6gWVGH",
        "outputId": "ac96f02b-4cb4-4fe5-dc2d-2ebbe2c7b151"
      },
      "source": [
        "#  now finding null values in dataframe \n",
        "#  use isnull() to check null values and sum() method to find total number of null values at each column of dataframe\n",
        "\n",
        "print(hotel_booking_df.isnull().sum())"
      ],
      "execution_count": 24,
      "outputs": [
        {
          "output_type": "stream",
          "name": "stdout",
          "text": [
            "hotel                               0\n",
            "is_canceled                         0\n",
            "lead_time                           0\n",
            "arrival_date_year                   0\n",
            "arrival_date_month                  0\n",
            "arrival_date_week_number            0\n",
            "arrival_date_day_of_month           0\n",
            "stays_in_weekend_nights             0\n",
            "stays_in_week_nights                0\n",
            "adults                              0\n",
            "children                            4\n",
            "babies                              0\n",
            "meal                                0\n",
            "country                           451\n",
            "market_segment                      0\n",
            "distribution_channel                0\n",
            "is_repeated_guest                   0\n",
            "previous_cancellations              0\n",
            "previous_bookings_not_canceled      0\n",
            "reserved_room_type                  0\n",
            "assigned_room_type                  0\n",
            "booking_changes                     0\n",
            "deposit_type                        0\n",
            "days_in_waiting_list                0\n",
            "customer_type                       0\n",
            "adr                                 0\n",
            "required_car_parking_spaces         0\n",
            "total_of_special_requests           0\n",
            "reservation_status                  0\n",
            "dtype: int64\n"
          ]
        }
      ]
    },
    {
      "cell_type": "markdown",
      "metadata": {
        "id": "9YQwKJyRXMgM"
      },
      "source": [
        "* **As, We have seen that there are 4 null values in children column and 451 null values in country column**"
      ]
    },
    {
      "cell_type": "code",
      "metadata": {
        "colab": {
          "base_uri": "https://localhost:8080/"
        },
        "id": "mZKZW_h9XMOG",
        "outputId": "01b02eca-e17d-4d04-fc48-d174245b04f5"
      },
      "source": [
        "#  dropping the null values by using \"dropna()\" method\n",
        "\n",
        "hotel_booking_df = hotel_booking_df.dropna()\n",
        "hotel_booking_df.count()   # again check no. of rows left in each column after dropping null values"
      ],
      "execution_count": 25,
      "outputs": [
        {
          "output_type": "execute_result",
          "data": {
            "text/plain": [
              "hotel                             86668\n",
              "is_canceled                       86668\n",
              "lead_time                         86668\n",
              "arrival_date_year                 86668\n",
              "arrival_date_month                86668\n",
              "arrival_date_week_number          86668\n",
              "arrival_date_day_of_month         86668\n",
              "stays_in_weekend_nights           86668\n",
              "stays_in_week_nights              86668\n",
              "adults                            86668\n",
              "children                          86668\n",
              "babies                            86668\n",
              "meal                              86668\n",
              "country                           86668\n",
              "market_segment                    86668\n",
              "distribution_channel              86668\n",
              "is_repeated_guest                 86668\n",
              "previous_cancellations            86668\n",
              "previous_bookings_not_canceled    86668\n",
              "reserved_room_type                86668\n",
              "assigned_room_type                86668\n",
              "booking_changes                   86668\n",
              "deposit_type                      86668\n",
              "days_in_waiting_list              86668\n",
              "customer_type                     86668\n",
              "adr                               86668\n",
              "required_car_parking_spaces       86668\n",
              "total_of_special_requests         86668\n",
              "reservation_status                86668\n",
              "dtype: int64"
            ]
          },
          "metadata": {},
          "execution_count": 25
        }
      ]
    },
    {
      "cell_type": "markdown",
      "metadata": {
        "id": "DA0jIXA6Xx9D"
      },
      "source": [
        "\n",
        "\n",
        "* **Null values,duplicate data is removed from the dataframe.**\n",
        "\n",
        "\n",
        "*  **Dataframe is now free from noisy data.**\n",
        "\n",
        "\n",
        "\n"
      ]
    },
    {
      "cell_type": "code",
      "metadata": {
        "colab": {
          "base_uri": "https://localhost:8080/"
        },
        "id": "ptcytjUmX6cE",
        "outputId": "97d17c97-7e0b-4199-b2bc-454fabecfd54"
      },
      "source": [
        "#  now check is their any null value left or not\n",
        "\n",
        "print(hotel_booking_df.isnull().sum())\n"
      ],
      "execution_count": 26,
      "outputs": [
        {
          "output_type": "stream",
          "name": "stdout",
          "text": [
            "hotel                             0\n",
            "is_canceled                       0\n",
            "lead_time                         0\n",
            "arrival_date_year                 0\n",
            "arrival_date_month                0\n",
            "arrival_date_week_number          0\n",
            "arrival_date_day_of_month         0\n",
            "stays_in_weekend_nights           0\n",
            "stays_in_week_nights              0\n",
            "adults                            0\n",
            "children                          0\n",
            "babies                            0\n",
            "meal                              0\n",
            "country                           0\n",
            "market_segment                    0\n",
            "distribution_channel              0\n",
            "is_repeated_guest                 0\n",
            "previous_cancellations            0\n",
            "previous_bookings_not_canceled    0\n",
            "reserved_room_type                0\n",
            "assigned_room_type                0\n",
            "booking_changes                   0\n",
            "deposit_type                      0\n",
            "days_in_waiting_list              0\n",
            "customer_type                     0\n",
            "adr                               0\n",
            "required_car_parking_spaces       0\n",
            "total_of_special_requests         0\n",
            "reservation_status                0\n",
            "dtype: int64\n"
          ]
        }
      ]
    },
    {
      "cell_type": "markdown",
      "metadata": {
        "id": "jA9Vt1uJYFxi"
      },
      "source": [
        "**We have seen that no null values are left.**"
      ]
    },
    {
      "cell_type": "markdown",
      "metadata": {
        "id": "172rkbGRBwnM"
      },
      "source": [
        "\n",
        "\n",
        "# **Working on outliers**\n",
        "\n"
      ]
    },
    {
      "cell_type": "markdown",
      "metadata": {
        "id": "m5Dlh2aQiOzh"
      },
      "source": [
        "\n",
        "\n",
        "*  **Outliers is an abnormally large or small value in the dataset which may lead to some noise in the data.**\n",
        "\n",
        "\n",
        "*  **In general ,we try to avoid or remove these outliers from the dataset to make our dataset normal and it is easy for analysis.**\n",
        "\n",
        "\n",
        "\n",
        "\n",
        "\n"
      ]
    },
    {
      "cell_type": "code",
      "metadata": {
        "colab": {
          "base_uri": "https://localhost:8080/",
          "height": 618
        },
        "id": "FKD47bBxL1iE",
        "outputId": "8c01bfda-8ef7-453b-cf2a-6e577396a526"
      },
      "source": [
        "#  draw box plot to see if there is any outliers in our dataset\n",
        "\n",
        "hotel_booking_df.boxplot()\n",
        "plt.xticks(rotation=90) #  rotate each value at x-axis to 90 degree angle\n"
      ],
      "execution_count": 27,
      "outputs": [
        {
          "output_type": "execute_result",
          "data": {
            "text/plain": [
              "(array([ 1,  2,  3,  4,  5,  6,  7,  8,  9, 10, 11, 12, 13, 14, 15, 16, 17,\n",
              "        18]), <a list of 18 Text major ticklabel objects>)"
            ]
          },
          "metadata": {},
          "execution_count": 27
        },
        {
          "output_type": "display_data",
          "data": {
            "image/png": "[encoded data removed]",
            "text/plain": [
              "<Figure size 936x504 with 1 Axes>"
            ]
          },
          "metadata": {
            "needs_background": "light"
          }
        }
      ]
    },
    {
      "cell_type": "markdown",
      "metadata": {
        "id": "YwFUNRUI0ZpL"
      },
      "source": [
        "\n",
        "\n",
        "*   **From this above graph, it is clear that the column  lead_time and adr have outliers.**\n",
        "\n"
      ]
    },
    {
      "cell_type": "code",
      "metadata": {
        "colab": {
          "base_uri": "https://localhost:8080/",
          "height": 461
        },
        "id": "yyhkE_zh7hAc",
        "outputId": "3e1ec7f2-188c-447b-f551-bf47f47da27f"
      },
      "source": [
        "#  plotting box plot to find outliers for column : lead time \n",
        "\n",
        "sns.boxplot(x=hotel_booking_df['lead_time'])"
      ],
      "execution_count": 28,
      "outputs": [
        {
          "output_type": "execute_result",
          "data": {
            "text/plain": [
              "<matplotlib.axes._subplots.AxesSubplot at 0x7f70580b0a10>"
            ]
          },
          "metadata": {},
          "execution_count": 28
        },
        {
          "output_type": "display_data",
          "data": {
            "image/png": "[encoded data removed]",
            "text/plain": [
              "<Figure size 936x504 with 1 Axes>"
            ]
          },
          "metadata": {
            "needs_background": "light"
          }
        }
      ]
    },
    {
      "cell_type": "code",
      "metadata": {
        "colab": {
          "base_uri": "https://localhost:8080/",
          "height": 460
        },
        "id": "q5B3ZYDp08L2",
        "outputId": "2bd64e48-3161-4f62-fb1d-55512ea06c7a"
      },
      "source": [
        "#  plotting box plot to find outliers  for column : adr(avergae daily rate)\n",
        "\n",
        "sns.boxplot(x=hotel_booking_df['adr'])"
      ],
      "execution_count": 29,
      "outputs": [
        {
          "output_type": "execute_result",
          "data": {
            "text/plain": [
              "<matplotlib.axes._subplots.AxesSubplot at 0x7f7057a56310>"
            ]
          },
          "metadata": {},
          "execution_count": 29
        },
        {
          "output_type": "display_data",
          "data": {
            "image/png": "[encoded data removed]",
            "text/plain": [
              "<Figure size 936x504 with 1 Axes>"
            ]
          },
          "metadata": {
            "needs_background": "light"
          }
        }
      ]
    },
    {
      "cell_type": "code",
      "metadata": {
        "colab": {
          "base_uri": "https://localhost:8080/"
        },
        "id": "ikFVr_Lz1I0A",
        "outputId": "703fdf0b-4000-41d9-b914-adf06230c644"
      },
      "source": [
        "#  check the shape of our dataframe before removing the outliers\n",
        "\n",
        "print(f\"Old shape : {hotel_booking_df.shape}\")"
      ],
      "execution_count": 30,
      "outputs": [
        {
          "output_type": "stream",
          "name": "stdout",
          "text": [
            "Old shape : (86668, 29)\n"
          ]
        }
      ]
    },
    {
      "cell_type": "code",
      "metadata": {
        "id": "yjewi_TTeHVt"
      },
      "source": [
        "#  dropping outliers for columns which have outliers in our dataframe\n",
        "\n",
        "cols = ['lead_time' , 'adr'] # creating list for columns having outliers\n",
        "Q1 = hotel_booking_df[cols].quantile(0.25)  #  lower range\n",
        "Q3 = hotel_booking_df[cols].quantile(0.75)  #  upper range\n",
        "\n",
        "IQR = Q3 - Q1 # interquartile range\n",
        "\n",
        "# using interquartile range to find outliers in the data and remove them\n",
        "hotel_booking_df = hotel_booking_df[~((hotel_booking_df[cols] < (Q1 - 1.5 * IQR)) |(hotel_booking_df[cols] > (Q3 + 1.5 * IQR))).any(axis=1)]"
      ],
      "execution_count": 31,
      "outputs": []
    },
    {
      "cell_type": "code",
      "metadata": {
        "colab": {
          "base_uri": "https://localhost:8080/"
        },
        "id": "g2X6cpv3eyKQ",
        "outputId": "c1babbec-8f96-49e3-b5d9-dbb0bfdc782c"
      },
      "source": [
        "#  after removing outliers the shape of our dataframe has been changed\n",
        "\n",
        "print(f\"New shape : {hotel_booking_df.shape}\")"
      ],
      "execution_count": 32,
      "outputs": [
        {
          "output_type": "stream",
          "name": "stdout",
          "text": [
            "New shape : (81765, 29)\n"
          ]
        }
      ]
    },
    {
      "cell_type": "code",
      "metadata": {
        "colab": {
          "base_uri": "https://localhost:8080/",
          "height": 319
        },
        "id": "1ss3drmNcCx0",
        "outputId": "a6b7abc5-7f72-4833-c1bc-eb3db02e2b59"
      },
      "source": [
        "#  Analysis the data by looking into various columns i.e. max. ,min., mean etc.\n",
        "hotel_booking_df.describe()"
      ],
      "execution_count": 33,
      "outputs": [
        {
          "output_type": "execute_result",
          "data": {
            "text/html": [
              "<div>\n",
              "<style scoped>\n",
              "    .dataframe tbody tr th:only-of-type {\n",
              "        vertical-align: middle;\n",
              "    }\n",
              "\n",
              "    .dataframe tbody tr th {\n",
              "        vertical-align: top;\n",
              "    }\n",
              "\n",
              "    .dataframe thead th {\n",
              "        text-align: right;\n",
              "    }\n",
              "</style>\n",
              "<table border=\"1\" class=\"dataframe\">\n",
              "  <thead>\n",
              "    <tr style=\"text-align: right;\">\n",
              "      <th></th>\n",
              "      <th>is_canceled</th>\n",
              "      <th>lead_time</th>\n",
              "      <th>arrival_date_year</th>\n",
              "      <th>arrival_date_week_number</th>\n",
              "      <th>arrival_date_day_of_month</th>\n",
              "      <th>stays_in_weekend_nights</th>\n",
              "      <th>stays_in_week_nights</th>\n",
              "      <th>adults</th>\n",
              "      <th>children</th>\n",
              "      <th>babies</th>\n",
              "      <th>is_repeated_guest</th>\n",
              "      <th>previous_cancellations</th>\n",
              "      <th>previous_bookings_not_canceled</th>\n",
              "      <th>booking_changes</th>\n",
              "      <th>days_in_waiting_list</th>\n",
              "      <th>adr</th>\n",
              "      <th>required_car_parking_spaces</th>\n",
              "      <th>total_of_special_requests</th>\n",
              "    </tr>\n",
              "  </thead>\n",
              "  <tbody>\n",
              "    <tr>\n",
              "      <th>count</th>\n",
              "      <td>81765.000000</td>\n",
              "      <td>81765.000000</td>\n",
              "      <td>81765.000000</td>\n",
              "      <td>81765.000000</td>\n",
              "      <td>81765.000000</td>\n",
              "      <td>81765.000000</td>\n",
              "      <td>81765.000000</td>\n",
              "      <td>81765.000000</td>\n",
              "      <td>81765.000000</td>\n",
              "      <td>81765.000000</td>\n",
              "      <td>81765.000000</td>\n",
              "      <td>81765.000000</td>\n",
              "      <td>81765.000000</td>\n",
              "      <td>81765.000000</td>\n",
              "      <td>81765.000000</td>\n",
              "      <td>81765.000000</td>\n",
              "      <td>81765.000000</td>\n",
              "      <td>81765.000000</td>\n",
              "    </tr>\n",
              "    <tr>\n",
              "      <th>mean</th>\n",
              "      <td>0.265272</td>\n",
              "      <td>72.349477</td>\n",
              "      <td>2016.193738</td>\n",
              "      <td>26.618675</td>\n",
              "      <td>15.808414</td>\n",
              "      <td>0.993628</td>\n",
              "      <td>2.583000</td>\n",
              "      <td>1.864954</td>\n",
              "      <td>0.118376</td>\n",
              "      <td>0.010506</td>\n",
              "      <td>0.040996</td>\n",
              "      <td>0.030245</td>\n",
              "      <td>0.186180</td>\n",
              "      <td>0.263780</td>\n",
              "      <td>0.588553</td>\n",
              "      <td>102.291585</td>\n",
              "      <td>0.082713</td>\n",
              "      <td>0.697242</td>\n",
              "    </tr>\n",
              "    <tr>\n",
              "      <th>std</th>\n",
              "      <td>0.441481</td>\n",
              "      <td>73.349971</td>\n",
              "      <td>0.685823</td>\n",
              "      <td>13.873239</td>\n",
              "      <td>8.845727</td>\n",
              "      <td>1.019259</td>\n",
              "      <td>2.019346</td>\n",
              "      <td>0.507909</td>\n",
              "      <td>0.417284</td>\n",
              "      <td>0.112454</td>\n",
              "      <td>0.198281</td>\n",
              "      <td>0.378541</td>\n",
              "      <td>1.766758</td>\n",
              "      <td>0.713793</td>\n",
              "      <td>7.990648</td>\n",
              "      <td>45.236940</td>\n",
              "      <td>0.279373</td>\n",
              "      <td>0.826745</td>\n",
              "    </tr>\n",
              "    <tr>\n",
              "      <th>min</th>\n",
              "      <td>0.000000</td>\n",
              "      <td>0.000000</td>\n",
              "      <td>2015.000000</td>\n",
              "      <td>1.000000</td>\n",
              "      <td>1.000000</td>\n",
              "      <td>0.000000</td>\n",
              "      <td>0.000000</td>\n",
              "      <td>0.000000</td>\n",
              "      <td>0.000000</td>\n",
              "      <td>0.000000</td>\n",
              "      <td>0.000000</td>\n",
              "      <td>0.000000</td>\n",
              "      <td>0.000000</td>\n",
              "      <td>0.000000</td>\n",
              "      <td>0.000000</td>\n",
              "      <td>-6.380000</td>\n",
              "      <td>0.000000</td>\n",
              "      <td>0.000000</td>\n",
              "    </tr>\n",
              "    <tr>\n",
              "      <th>25%</th>\n",
              "      <td>0.000000</td>\n",
              "      <td>11.000000</td>\n",
              "      <td>2016.000000</td>\n",
              "      <td>15.000000</td>\n",
              "      <td>8.000000</td>\n",
              "      <td>0.000000</td>\n",
              "      <td>1.000000</td>\n",
              "      <td>2.000000</td>\n",
              "      <td>0.000000</td>\n",
              "      <td>0.000000</td>\n",
              "      <td>0.000000</td>\n",
              "      <td>0.000000</td>\n",
              "      <td>0.000000</td>\n",
              "      <td>0.000000</td>\n",
              "      <td>0.000000</td>\n",
              "      <td>72.000000</td>\n",
              "      <td>0.000000</td>\n",
              "      <td>0.000000</td>\n",
              "    </tr>\n",
              "    <tr>\n",
              "      <th>50%</th>\n",
              "      <td>0.000000</td>\n",
              "      <td>47.000000</td>\n",
              "      <td>2016.000000</td>\n",
              "      <td>27.000000</td>\n",
              "      <td>16.000000</td>\n",
              "      <td>1.000000</td>\n",
              "      <td>2.000000</td>\n",
              "      <td>2.000000</td>\n",
              "      <td>0.000000</td>\n",
              "      <td>0.000000</td>\n",
              "      <td>0.000000</td>\n",
              "      <td>0.000000</td>\n",
              "      <td>0.000000</td>\n",
              "      <td>0.000000</td>\n",
              "      <td>0.000000</td>\n",
              "      <td>97.200000</td>\n",
              "      <td>0.000000</td>\n",
              "      <td>0.000000</td>\n",
              "    </tr>\n",
              "    <tr>\n",
              "      <th>75%</th>\n",
              "      <td>1.000000</td>\n",
              "      <td>117.000000</td>\n",
              "      <td>2017.000000</td>\n",
              "      <td>37.000000</td>\n",
              "      <td>23.000000</td>\n",
              "      <td>2.000000</td>\n",
              "      <td>3.000000</td>\n",
              "      <td>2.000000</td>\n",
              "      <td>0.000000</td>\n",
              "      <td>0.000000</td>\n",
              "      <td>0.000000</td>\n",
              "      <td>0.000000</td>\n",
              "      <td>0.000000</td>\n",
              "      <td>0.000000</td>\n",
              "      <td>0.000000</td>\n",
              "      <td>130.500000</td>\n",
              "      <td>0.000000</td>\n",
              "      <td>1.000000</td>\n",
              "    </tr>\n",
              "    <tr>\n",
              "      <th>max</th>\n",
              "      <td>1.000000</td>\n",
              "      <td>294.000000</td>\n",
              "      <td>2017.000000</td>\n",
              "      <td>53.000000</td>\n",
              "      <td>31.000000</td>\n",
              "      <td>16.000000</td>\n",
              "      <td>41.000000</td>\n",
              "      <td>4.000000</td>\n",
              "      <td>10.000000</td>\n",
              "      <td>10.000000</td>\n",
              "      <td>1.000000</td>\n",
              "      <td>26.000000</td>\n",
              "      <td>72.000000</td>\n",
              "      <td>21.000000</td>\n",
              "      <td>259.000000</td>\n",
              "      <td>226.840000</td>\n",
              "      <td>8.000000</td>\n",
              "      <td>5.000000</td>\n",
              "    </tr>\n",
              "  </tbody>\n",
              "</table>\n",
              "</div>"
            ],
            "text/plain": [
              "        is_canceled  ...  total_of_special_requests\n",
              "count  81765.000000  ...               81765.000000\n",
              "mean       0.265272  ...                   0.697242\n",
              "std        0.441481  ...                   0.826745\n",
              "min        0.000000  ...                   0.000000\n",
              "25%        0.000000  ...                   0.000000\n",
              "50%        0.000000  ...                   0.000000\n",
              "75%        1.000000  ...                   1.000000\n",
              "max        1.000000  ...                   5.000000\n",
              "\n",
              "[8 rows x 18 columns]"
            ]
          },
          "metadata": {},
          "execution_count": 33
        }
      ]
    },
    {
      "cell_type": "markdown",
      "metadata": {
        "id": "gLA7aOhVjkDS"
      },
      "source": [
        "# Visualize total  number of bookings for both hotels"
      ]
    },
    {
      "cell_type": "code",
      "metadata": {
        "colab": {
          "base_uri": "https://localhost:8080/"
        },
        "id": "Lb6jkzIpI-4s",
        "outputId": "7c441ac7-e25a-4f5b-a433-1d51fafe19ec"
      },
      "source": [
        "#  total booking counts for each hotel\n",
        "hotel_booking_df['hotel'].value_counts(normalize=True)"
      ],
      "execution_count": 34,
      "outputs": [
        {
          "output_type": "execute_result",
          "data": {
            "text/plain": [
              "City Hotel      0.626686\n",
              "Resort Hotel    0.373314\n",
              "Name: hotel, dtype: float64"
            ]
          },
          "metadata": {},
          "execution_count": 34
        }
      ]
    },
    {
      "cell_type": "code",
      "metadata": {
        "colab": {
          "base_uri": "https://localhost:8080/",
          "height": 510
        },
        "id": "GDT1fKNkDkiX",
        "outputId": "6007964f-aea8-44ae-966a-0f6ef4d770a9"
      },
      "source": [
        "#  creating the bar plot\n",
        "#  use \"value_counts()\" method on \"hotel\" column to find total bookings\n",
        "#  using plot() method having (kind=\"bar\") as parameter to plot (bar graph)\n",
        "\n",
        "hotel_booking_df.hotel.value_counts().sort_values().plot(kind = 'bar')\n",
        "plt.xlabel(\"Hotel\" , weight=\"bold\")  #  label at x-axix\n",
        "plt.ylabel(\"Total bookings\" , weight=\"bold\")  #  label at y-axis\n",
        "plt.title(\"Total booking for both hotels\")  #  title to reperesent graph significance\n",
        "\n",
        "#  to show a graph.It is necessary when you are using Matplotlib in terminal and optional when you are using notebook\n",
        "plt.show()"
      ],
      "execution_count": 35,
      "outputs": [
        {
          "output_type": "display_data",
          "data": {
            "image/png": "[encoded data removed]",
            "text/plain": [
              "<Figure size 936x504 with 1 Axes>"
            ]
          },
          "metadata": {
            "needs_background": "light"
          }
        }
      ]
    },
    {
      "cell_type": "markdown",
      "metadata": {
        "id": "EXgkuBPXQBpj"
      },
      "source": [
        "\n",
        "\n",
        "* **It has been clearly seen from the above graph that City Hotel have highest bookings.**\n",
        "* **It is preferred by most of the customers.**\n",
        "* **We can also say that City Hotel have been liked my most of the customers.**\n",
        "\n"
      ]
    },
    {
      "cell_type": "markdown",
      "metadata": {
        "id": "b5bckp1FQvma"
      },
      "source": [
        "# To better understand the dataset, I have a list of questions to analyse it further:\n",
        "\n",
        "\n",
        "1.  Which is the busiest month for both hotels? Which is the most occupied month for City Hotel and Resory Hotel?\n",
        "2.  What is the percentage of cancelled and non-cancelled bookings? Which type of hotel is more likely to be cancelled?\n",
        "3.  What is the total number of bookings by market segments?\n",
        "4.  Total Nights Spent by Guests at the Hotel by Market Segment and Hotel Type.\n",
        "5. Which was the most booked accommodation type (Single, Couple, Family)?\n",
        "6.  How does the Price Per Night (ADR) Vary Over the Year by Hotel Type?\n",
        "7. What is the percentage of booking for each year?\n",
        "8. What is the Effect of Meal type on Cancellations?"
      ]
    },
    {
      "cell_type": "markdown",
      "metadata": {
        "id": "m0yAi03-TycH"
      },
      "source": [
        "# Sorting month column according to month category so that we are able to visualize in a better way."
      ]
    },
    {
      "cell_type": "code",
      "metadata": {
        "id": "NamsLoOdl3E1"
      },
      "source": [
        "#  sort arrival month column by monthwise so that we get graph according to monthwise\n",
        "ordered_months = [\"January\", \"February\", \"March\", \"April\", \"May\", \"June\", \"July\", \"August\", \"September\", \"October\", \"November\", \"December\"]\n",
        "\n",
        "#  use \"Categorical()\" method of pandas to order \"arrival_date_month\" column monthwise\n",
        "hotel_booking_df['arrival_date_month'] = pd.Categorical(hotel_booking_df['arrival_date_month'], categories=ordered_months, ordered=True)"
      ],
      "execution_count": 36,
      "outputs": []
    },
    {
      "cell_type": "markdown",
      "metadata": {
        "id": "tN4vrSQlj_XD"
      },
      "source": [
        "# 1. Which is the busiest month for both hotels? Which is the most occupied month for City Hotel and Resort Hotel?"
      ]
    },
    {
      "cell_type": "code",
      "metadata": {
        "colab": {
          "base_uri": "https://localhost:8080/",
          "height": 425
        },
        "id": "Uzdbjw3rosQj",
        "outputId": "b564419d-930f-43d6-eac6-1702893bfccc"
      },
      "source": [
        "#  use value_counts to find the total bookings of both hotels together monthwise\n",
        "#  reset_index() is used to set the index for new created dataframe from value_counts data\n",
        "#  values is used to set the values at proper\n",
        "#  columns parameter is used to set the column names for new dataframe\n",
        "\n",
        "total_bookings_df = pd.DataFrame(hotel_booking_df['arrival_date_month'].value_counts().reset_index().values,columns=['month','bookings']) \n",
        "total_bookings_df"
      ],
      "execution_count": 37,
      "outputs": [
        {
          "output_type": "execute_result",
          "data": {
            "text/html": [
              "<div>\n",
              "<style scoped>\n",
              "    .dataframe tbody tr th:only-of-type {\n",
              "        vertical-align: middle;\n",
              "    }\n",
              "\n",
              "    .dataframe tbody tr th {\n",
              "        vertical-align: top;\n",
              "    }\n",
              "\n",
              "    .dataframe thead th {\n",
              "        text-align: right;\n",
              "    }\n",
              "</style>\n",
              "<table border=\"1\" class=\"dataframe\">\n",
              "  <thead>\n",
              "    <tr style=\"text-align: right;\">\n",
              "      <th></th>\n",
              "      <th>month</th>\n",
              "      <th>bookings</th>\n",
              "    </tr>\n",
              "  </thead>\n",
              "  <tbody>\n",
              "    <tr>\n",
              "      <th>0</th>\n",
              "      <td>August</td>\n",
              "      <td>9478</td>\n",
              "    </tr>\n",
              "    <tr>\n",
              "      <th>1</th>\n",
              "      <td>July</td>\n",
              "      <td>9045</td>\n",
              "    </tr>\n",
              "    <tr>\n",
              "      <th>2</th>\n",
              "      <td>May</td>\n",
              "      <td>7860</td>\n",
              "    </tr>\n",
              "    <tr>\n",
              "      <th>3</th>\n",
              "      <td>April</td>\n",
              "      <td>7686</td>\n",
              "    </tr>\n",
              "    <tr>\n",
              "      <th>4</th>\n",
              "      <td>March</td>\n",
              "      <td>7360</td>\n",
              "    </tr>\n",
              "    <tr>\n",
              "      <th>5</th>\n",
              "      <td>June</td>\n",
              "      <td>7229</td>\n",
              "    </tr>\n",
              "    <tr>\n",
              "      <th>6</th>\n",
              "      <td>October</td>\n",
              "      <td>6529</td>\n",
              "    </tr>\n",
              "    <tr>\n",
              "      <th>7</th>\n",
              "      <td>September</td>\n",
              "      <td>6184</td>\n",
              "    </tr>\n",
              "    <tr>\n",
              "      <th>8</th>\n",
              "      <td>February</td>\n",
              "      <td>5982</td>\n",
              "    </tr>\n",
              "    <tr>\n",
              "      <th>9</th>\n",
              "      <td>December</td>\n",
              "      <td>4938</td>\n",
              "    </tr>\n",
              "    <tr>\n",
              "      <th>10</th>\n",
              "      <td>November</td>\n",
              "      <td>4888</td>\n",
              "    </tr>\n",
              "    <tr>\n",
              "      <th>11</th>\n",
              "      <td>January</td>\n",
              "      <td>4586</td>\n",
              "    </tr>\n",
              "  </tbody>\n",
              "</table>\n",
              "</div>"
            ],
            "text/plain": [
              "        month bookings\n",
              "0      August     9478\n",
              "1        July     9045\n",
              "2         May     7860\n",
              "3       April     7686\n",
              "4       March     7360\n",
              "5        June     7229\n",
              "6     October     6529\n",
              "7   September     6184\n",
              "8    February     5982\n",
              "9    December     4938\n",
              "10   November     4888\n",
              "11    January     4586"
            ]
          },
          "metadata": {},
          "execution_count": 37
        }
      ]
    },
    {
      "cell_type": "code",
      "metadata": {
        "colab": {
          "base_uri": "https://localhost:8080/",
          "height": 521
        },
        "id": "4cc_2ctNHOcd",
        "outputId": "b08d6251-a606-4e8c-84b7-374b8386b99d"
      },
      "source": [
        "#  plot scatter graph to show bussiest month \n",
        "total_bookings_df.plot.scatter(x='month',y='bookings')\n",
        "plt.title(\"Busiest month of the hotel\")\n",
        "plt.xlabel(\"Month\",weight=\"bold\")\n",
        "plt.xticks(rotation=90)\n",
        "plt.ylabel(\"Bookings\",weight=\"bold\")\n"
      ],
      "execution_count": 38,
      "outputs": [
        {
          "output_type": "execute_result",
          "data": {
            "text/plain": [
              "Text(0, 0.5, 'Bookings')"
            ]
          },
          "metadata": {},
          "execution_count": 38
        },
        {
          "output_type": "display_data",
          "data": {
            "image/png": "[encoded data removed]",
            "text/plain": [
              "<Figure size 936x504 with 1 Axes>"
            ]
          },
          "metadata": {
            "needs_background": "light"
          }
        }
      ]
    },
    {
      "cell_type": "code",
      "metadata": {
        "colab": {
          "base_uri": "https://localhost:8080/",
          "height": 799
        },
        "id": "TjsOWkvEks0g",
        "outputId": "25d4eecd-95a0-47d9-a647-a3de48e9feac"
      },
      "source": [
        "#  use groupby to find the total bookings for each hotel at every month\n",
        "#  apply groupby on \"arrival_date_month\" column and count total bookings for both hotel \n",
        "#  using \"value_counts\" method on \"hotel\" column\n",
        "\n",
        "hotel_booking_df.groupby('arrival_date_month')['hotel'].value_counts().reset_index(name=\"count_monthwise\") "
      ],
      "execution_count": 39,
      "outputs": [
        {
          "output_type": "execute_result",
          "data": {
            "text/html": [
              "<div>\n",
              "<style scoped>\n",
              "    .dataframe tbody tr th:only-of-type {\n",
              "        vertical-align: middle;\n",
              "    }\n",
              "\n",
              "    .dataframe tbody tr th {\n",
              "        vertical-align: top;\n",
              "    }\n",
              "\n",
              "    .dataframe thead th {\n",
              "        text-align: right;\n",
              "    }\n",
              "</style>\n",
              "<table border=\"1\" class=\"dataframe\">\n",
              "  <thead>\n",
              "    <tr style=\"text-align: right;\">\n",
              "      <th></th>\n",
              "      <th>arrival_date_month</th>\n",
              "      <th>hotel</th>\n",
              "      <th>count_monthwise</th>\n",
              "    </tr>\n",
              "  </thead>\n",
              "  <tbody>\n",
              "    <tr>\n",
              "      <th>0</th>\n",
              "      <td>January</td>\n",
              "      <td>City Hotel</td>\n",
              "      <td>2688</td>\n",
              "    </tr>\n",
              "    <tr>\n",
              "      <th>1</th>\n",
              "      <td>January</td>\n",
              "      <td>Resort Hotel</td>\n",
              "      <td>1898</td>\n",
              "    </tr>\n",
              "    <tr>\n",
              "      <th>2</th>\n",
              "      <td>February</td>\n",
              "      <td>City Hotel</td>\n",
              "      <td>3563</td>\n",
              "    </tr>\n",
              "    <tr>\n",
              "      <th>3</th>\n",
              "      <td>February</td>\n",
              "      <td>Resort Hotel</td>\n",
              "      <td>2419</td>\n",
              "    </tr>\n",
              "    <tr>\n",
              "      <th>4</th>\n",
              "      <td>March</td>\n",
              "      <td>City Hotel</td>\n",
              "      <td>4793</td>\n",
              "    </tr>\n",
              "    <tr>\n",
              "      <th>5</th>\n",
              "      <td>March</td>\n",
              "      <td>Resort Hotel</td>\n",
              "      <td>2567</td>\n",
              "    </tr>\n",
              "    <tr>\n",
              "      <th>6</th>\n",
              "      <td>April</td>\n",
              "      <td>City Hotel</td>\n",
              "      <td>4925</td>\n",
              "    </tr>\n",
              "    <tr>\n",
              "      <th>7</th>\n",
              "      <td>April</td>\n",
              "      <td>Resort Hotel</td>\n",
              "      <td>2761</td>\n",
              "    </tr>\n",
              "    <tr>\n",
              "      <th>8</th>\n",
              "      <td>May</td>\n",
              "      <td>City Hotel</td>\n",
              "      <td>5083</td>\n",
              "    </tr>\n",
              "    <tr>\n",
              "      <th>9</th>\n",
              "      <td>May</td>\n",
              "      <td>Resort Hotel</td>\n",
              "      <td>2777</td>\n",
              "    </tr>\n",
              "    <tr>\n",
              "      <th>10</th>\n",
              "      <td>June</td>\n",
              "      <td>City Hotel</td>\n",
              "      <td>4757</td>\n",
              "    </tr>\n",
              "    <tr>\n",
              "      <th>11</th>\n",
              "      <td>June</td>\n",
              "      <td>Resort Hotel</td>\n",
              "      <td>2472</td>\n",
              "    </tr>\n",
              "    <tr>\n",
              "      <th>12</th>\n",
              "      <td>July</td>\n",
              "      <td>City Hotel</td>\n",
              "      <td>5366</td>\n",
              "    </tr>\n",
              "    <tr>\n",
              "      <th>13</th>\n",
              "      <td>July</td>\n",
              "      <td>Resort Hotel</td>\n",
              "      <td>3679</td>\n",
              "    </tr>\n",
              "    <tr>\n",
              "      <th>14</th>\n",
              "      <td>August</td>\n",
              "      <td>City Hotel</td>\n",
              "      <td>6162</td>\n",
              "    </tr>\n",
              "    <tr>\n",
              "      <th>15</th>\n",
              "      <td>August</td>\n",
              "      <td>Resort Hotel</td>\n",
              "      <td>3316</td>\n",
              "    </tr>\n",
              "    <tr>\n",
              "      <th>16</th>\n",
              "      <td>September</td>\n",
              "      <td>City Hotel</td>\n",
              "      <td>4023</td>\n",
              "    </tr>\n",
              "    <tr>\n",
              "      <th>17</th>\n",
              "      <td>September</td>\n",
              "      <td>Resort Hotel</td>\n",
              "      <td>2161</td>\n",
              "    </tr>\n",
              "    <tr>\n",
              "      <th>18</th>\n",
              "      <td>October</td>\n",
              "      <td>City Hotel</td>\n",
              "      <td>4065</td>\n",
              "    </tr>\n",
              "    <tr>\n",
              "      <th>19</th>\n",
              "      <td>October</td>\n",
              "      <td>Resort Hotel</td>\n",
              "      <td>2464</td>\n",
              "    </tr>\n",
              "    <tr>\n",
              "      <th>20</th>\n",
              "      <td>November</td>\n",
              "      <td>City Hotel</td>\n",
              "      <td>2890</td>\n",
              "    </tr>\n",
              "    <tr>\n",
              "      <th>21</th>\n",
              "      <td>November</td>\n",
              "      <td>Resort Hotel</td>\n",
              "      <td>1998</td>\n",
              "    </tr>\n",
              "    <tr>\n",
              "      <th>22</th>\n",
              "      <td>December</td>\n",
              "      <td>City Hotel</td>\n",
              "      <td>2926</td>\n",
              "    </tr>\n",
              "    <tr>\n",
              "      <th>23</th>\n",
              "      <td>December</td>\n",
              "      <td>Resort Hotel</td>\n",
              "      <td>2012</td>\n",
              "    </tr>\n",
              "  </tbody>\n",
              "</table>\n",
              "</div>"
            ],
            "text/plain": [
              "   arrival_date_month         hotel  count_monthwise\n",
              "0             January    City Hotel             2688\n",
              "1             January  Resort Hotel             1898\n",
              "2            February    City Hotel             3563\n",
              "3            February  Resort Hotel             2419\n",
              "4               March    City Hotel             4793\n",
              "5               March  Resort Hotel             2567\n",
              "6               April    City Hotel             4925\n",
              "7               April  Resort Hotel             2761\n",
              "8                 May    City Hotel             5083\n",
              "9                 May  Resort Hotel             2777\n",
              "10               June    City Hotel             4757\n",
              "11               June  Resort Hotel             2472\n",
              "12               July    City Hotel             5366\n",
              "13               July  Resort Hotel             3679\n",
              "14             August    City Hotel             6162\n",
              "15             August  Resort Hotel             3316\n",
              "16          September    City Hotel             4023\n",
              "17          September  Resort Hotel             2161\n",
              "18            October    City Hotel             4065\n",
              "19            October  Resort Hotel             2464\n",
              "20           November    City Hotel             2890\n",
              "21           November  Resort Hotel             1998\n",
              "22           December    City Hotel             2926\n",
              "23           December  Resort Hotel             2012"
            ]
          },
          "metadata": {},
          "execution_count": 39
        }
      ]
    },
    {
      "cell_type": "code",
      "metadata": {
        "colab": {
          "base_uri": "https://localhost:8080/",
          "height": 476
        },
        "id": "d2P0Mv6klbx4",
        "outputId": "af06400e-b01e-4f91-e490-8c9fb0293170"
      },
      "source": [
        "#  plot the heatmap to show the busiest month for both hotel: City and Resort Hotel\n",
        "#  using seaborn library to plot heatmap\n",
        "#  using crosstab method of dataframe to represent the data in tabular form and easy to represent it on a heatmap\n",
        "# cmap parameter is used for different colors patterns on heatmap \n",
        "\n",
        "sns.heatmap(pd.crosstab(hotel_booking_df.arrival_date_month,hotel_booking_df.hotel) , cmap='coolwarm' , annot=True) \n",
        "plt.xlabel(\"Hotel\",weight='bold')\n",
        "plt.ylabel(\"Month\",weight='bold')\n",
        "plt.title(\"Showing Monthly Bookings By Heat Map\",weight='bold')\n"
      ],
      "execution_count": 40,
      "outputs": [
        {
          "output_type": "execute_result",
          "data": {
            "text/plain": [
              "Text(0.5, 1.0, 'Showing Monthly Bookings By Heat Map')"
            ]
          },
          "metadata": {},
          "execution_count": 40
        },
        {
          "output_type": "display_data",
          "data": {
            "image/png": "[encoded data removed]",
            "text/plain": [
              "<Figure size 936x504 with 2 Axes>"
            ]
          },
          "metadata": {
            "needs_background": "light"
          }
        }
      ]
    },
    {
      "cell_type": "code",
      "metadata": {
        "colab": {
          "base_uri": "https://localhost:8080/",
          "height": 521
        },
        "id": "MCMK5MzCgwmg",
        "outputId": "d60e18bd-c8d4-4bc4-f7d6-0f30ce0973d4"
      },
      "source": [
        "#  apply groupby on two columns and use size method to count the number of entries/rows \n",
        "month_busiest_df = hotel_booking_df.groupby(['arrival_date_month','hotel']).size()\n",
        "\n",
        "#  unstack method works with the MultiIndex objects in DataFrame\n",
        "#  It producing a reshaped DataFrame with a new inner-most level of column labels.\n",
        "month_busiest_df = month_busiest_df.unstack()\n",
        "\n",
        "#  plot bar graph to show bookings per month for each hotel \n",
        "month_busiest_df.plot(kind='bar')\n",
        "plt.xlabel(\"Month\" , weight=\"bold\")\n",
        "plt.ylabel(\"bookings\" , weight=\"bold\")\n",
        "plt.title(\"Monthwise bookings\")"
      ],
      "execution_count": 41,
      "outputs": [
        {
          "output_type": "execute_result",
          "data": {
            "text/plain": [
              "Text(0.5, 1.0, 'Monthwise bookings')"
            ]
          },
          "metadata": {},
          "execution_count": 41
        },
        {
          "output_type": "display_data",
          "data": {
            "image/png": "[encoded data removed]",
            "text/plain": [
              "<Figure size 936x504 with 1 Axes>"
            ]
          },
          "metadata": {
            "needs_background": "light"
          }
        }
      ]
    },
    {
      "cell_type": "markdown",
      "metadata": {
        "id": "4bqdy6W2Rpx0"
      },
      "source": [
        "# Conclusion drawn:\n",
        "\n",
        "*   From the above scatter graph,I have analyzed that August is the busiest month of the hotels followed by July and May.Also,January and November have least number of bookings.\n",
        "\n",
        "*   From the above heat map and bar graph ,I concluded that August is the busiest month for City hotel followed by July and May.Also,July seems to be the busiest month for Resort Hotel followed by August and May.\n",
        "\n",
        "*  It has been clearly seen from the bar graph that in both City and Resort hotel,the least number of bookings is in the month of November,December and January.I think due to winter season bookings are very less in these months.\n",
        "\n",
        "* I think because of summer vacations in the month of May , July, August bookings are highest in these months.\n",
        "\n",
        "* I think because of winter season the least bookings were made at the start and end of the year.\n",
        "\n",
        "\n",
        "\n",
        "\n"
      ]
    },
    {
      "cell_type": "markdown",
      "metadata": {
        "id": "lccVAMR6nfsT"
      },
      "source": [
        "# 2. What is the percentage of cancelled and non-cancelled bookings? Which type of hotel is more likely to be cancelled?"
      ]
    },
    {
      "cell_type": "markdown",
      "metadata": {
        "id": "_W_jb3Ac4Zez"
      },
      "source": [
        " *    **Below is the code to reperesent the proportion of cancelled and not cancelled bookings by pie chart**"
      ]
    },
    {
      "cell_type": "code",
      "metadata": {
        "id": "kB8zJ-ix1vDP",
        "colab": {
          "base_uri": "https://localhost:8080/"
        },
        "outputId": "4ad50b0e-e2e4-4cfa-94eb-e3d5caa53080"
      },
      "source": [
        "# code to find out the number of cancelled and non-cancellaed bookings for both hotels\n",
        "# value_counts method is used to count the total number of cancelled and non-cancelled bookings\n",
        "# normalize is set to True i.e. getting percentage count which is sometimes better than normal count for analysis\n",
        "\n",
        "cancel_vs_not_cancelled_df = hotel_booking_df['is_canceled'].value_counts(normalize = True)\n",
        "cancel_vs_not_cancelled_df"
      ],
      "execution_count": 42,
      "outputs": [
        {
          "output_type": "execute_result",
          "data": {
            "text/plain": [
              "0    0.734728\n",
              "1    0.265272\n",
              "Name: is_canceled, dtype: float64"
            ]
          },
          "metadata": {},
          "execution_count": 42
        }
      ]
    },
    {
      "cell_type": "code",
      "metadata": {
        "id": "wIJ3xM93gMBz",
        "colab": {
          "base_uri": "https://localhost:8080/",
          "height": 459
        },
        "outputId": "e5b3ac52-80e5-4488-d09f-a6053f4480a7"
      },
      "source": [
        "#  draw pie chart for canceled and non-canceled bookings\n",
        "#  A wedge of a pie chart can be made to explode from the rest of the wedges of the pie chart using the explode parameter of the pie function.\n",
        "\n",
        "explode = (0, 0.05)\n",
        "\n",
        "#  startangle parameter is used to rotatate a pie chart by various angles\n",
        "#  autopct parameter enables you to display the percent value using Python string formatting  \n",
        "#  textprops parameter is used to change color and fontsize of values inside pie chart\n",
        "\n",
        "plt.pie(cancel_vs_not_cancelled_df,startangle = 320,explode=explode, autopct='%1.1f%%' , textprops={'color':\"w\",'fontsize':14})\n",
        "plt.title('Proportion of Cancelled and Non-Cancelled bookings', weight='bold')  #  title to represent graph objective \n",
        "plt.xlabel(\"Cancelled\", weight='bold') #  label at x-axis with font style as bold\n",
        "plt.ylabel(\"Non-Cancelled\", weight='bold') #  label at y-axis with font style as bold\n"
      ],
      "execution_count": 43,
      "outputs": [
        {
          "output_type": "execute_result",
          "data": {
            "text/plain": [
              "Text(0, 0.5, 'Non-Cancelled')"
            ]
          },
          "metadata": {},
          "execution_count": 43
        },
        {
          "output_type": "display_data",
          "data": {
            "image/png": "[encoded data removed]",
            "text/plain": [
              "<Figure size 936x504 with 1 Axes>"
            ]
          },
          "metadata": {}
        }
      ]
    },
    {
      "cell_type": "markdown",
      "metadata": {
        "id": "qMVpiPRNtEGO"
      },
      "source": [
        "* **Below is the code to check the number of bokings cancelled for both City hotel and Resort Hotel**"
      ]
    },
    {
      "cell_type": "code",
      "metadata": {
        "id": "2UUNVrB_xTYX",
        "colab": {
          "base_uri": "https://localhost:8080/"
        },
        "outputId": "0d49c6c5-a03a-41fe-f853-044bc3220937"
      },
      "source": [
        "# count the total number of cancelled and non-cancelled bookings for City hotel and Resort hotel\n",
        "# apply groupby on \"is_canceled\" column to find the total enteries of each hotel type \n",
        "# normalize is set to True i.e. getting percentage count \n",
        "\n",
        "hotel_booking_df.groupby('is_canceled')['hotel'].value_counts(normalize = True)\n"
      ],
      "execution_count": 44,
      "outputs": [
        {
          "output_type": "execute_result",
          "data": {
            "text/plain": [
              "is_canceled  hotel       \n",
              "0            City Hotel      0.604378\n",
              "             Resort Hotel    0.395622\n",
              "1            City Hotel      0.688474\n",
              "             Resort Hotel    0.311526\n",
              "Name: hotel, dtype: float64"
            ]
          },
          "metadata": {},
          "execution_count": 44
        }
      ]
    },
    {
      "cell_type": "code",
      "metadata": {
        "id": "pC-Zm6BIyxqa",
        "colab": {
          "base_uri": "https://localhost:8080/",
          "height": 476
        },
        "outputId": "9abac00c-4115-44d4-fc82-b828e58963a6"
      },
      "source": [
        "#  plot the count plot of seaborn library for the total number of bookings cancelled  and non-cancelled by City hotel and Resort hotel\n",
        "#  palette parameter is used for different color patterns\n",
        "#  hue parameter represents which column in the data frame, you want to use for color encoding.\n",
        "\n",
        "sns.countplot(x= 'is_canceled',data = hotel_df,hue = 'hotel',palette= 'Dark2_r')\n",
        "plt.title('Cancelation status by hotel type',weight='bold') #  title to represent graph objective\n",
        "plt.ylabel('Reservation count', weight='bold') #  label at y-axis with font style as bold\n",
        "plt.xlabel('Cancelation status',weight='bold') #  label at x-axis with font style as bold\n"
      ],
      "execution_count": 45,
      "outputs": [
        {
          "output_type": "execute_result",
          "data": {
            "text/plain": [
              "Text(0.5, 0, 'Cancelation status')"
            ]
          },
          "metadata": {},
          "execution_count": 45
        },
        {
          "output_type": "display_data",
          "data": {
            "image/png": "[encoded data removed]",
            "text/plain": [
              "<Figure size 936x504 with 1 Axes>"
            ]
          },
          "metadata": {
            "needs_background": "light"
          }
        }
      ]
    },
    {
      "cell_type": "markdown",
      "metadata": {
        "id": "L2bTSQ6Ey9PS"
      },
      "source": [
        "# Conclusion Drawn:\n",
        "\n",
        "*  The above pie chart depicts proportion or percentage of cancelled & Not cancelled bookings.\n",
        "*  According to the pie chart, 73.5% bookings were not cancelled and 26.5% of the bookings were cancelled at the Hotel.\n",
        "* According to the count plot, a total of 31.46% Bookings were cancelled at the Resort  and a total of 68.5% Bookings were cancelled at the City Hotel\n",
        "* We found that City Hotel is having highest number of cancelled bookings.It also have highest number of bookings.\n"
      ]
    },
    {
      "cell_type": "markdown",
      "metadata": {
        "id": "xOm0KZd_xeOA"
      },
      "source": [
        "#3. What is the total number of bookings by Market Segment?"
      ]
    },
    {
      "cell_type": "code",
      "metadata": {
        "id": "qHoJq9fHzBN9",
        "colab": {
          "base_uri": "https://localhost:8080/"
        },
        "outputId": "732bb278-a468-4cff-b111-0f3d1dec2da4"
      },
      "source": [
        "# use value_counts to check which market segment have highest bookings\n",
        "hotel_booking_df['market_segment'].value_counts(normalize=True)\n",
        "                                               "
      ],
      "execution_count": 46,
      "outputs": [
        {
          "output_type": "execute_result",
          "data": {
            "text/plain": [
              "Online TA        0.596172\n",
              "Offline TA/TO    0.159799\n",
              "Direct           0.133138\n",
              "Groups           0.050670\n",
              "Corporate        0.048945\n",
              "Complementary    0.008500\n",
              "Aviation         0.002776\n",
              "Name: market_segment, dtype: float64"
            ]
          },
          "metadata": {},
          "execution_count": 46
        }
      ]
    },
    {
      "cell_type": "code",
      "metadata": {
        "id": "Ael0nWfrvbyP",
        "colab": {
          "base_uri": "https://localhost:8080/",
          "height": 476
        },
        "outputId": "ca20e728-c5f2-4e43-85e4-e645546c71a7"
      },
      "source": [
        "#  plot countplot graph of seaborn library\n",
        "#  order parameter is used to plot graph values in sorted order according to counted values\n",
        "#  palette is used for different color patterns\n",
        "\n",
        "plots = sns.countplot(x=hotel_booking_df['market_segment'],order=pd.value_counts(hotel_booking_df['market_segment']).index, palette='colorblind')\n",
        "\n",
        "# below is the code to annotate bars i.e. write values on top of each bar \n",
        "\n",
        "#  Iterrating over the bars one-by-one\n",
        "for bar in plots.patches:\n",
        "   \n",
        "  #  Using Matplotlib's annotate function and\n",
        "  #  passing the coordinates where the annotation shall be done\n",
        "  #  Annotation means adding notes to a diagram stating what values do it represents. \n",
        "  #  It often gets tiresome for the user to read the values from the graph when the graph is scaled down \n",
        "  #  or is overly populated\n",
        "  #  x-coordinate: bar.get_x() + bar.get_width() / 2\n",
        "  #  y-coordinate: bar.get_height()\n",
        "  #  free space to be left to make graph pleasing: (0, 8)\n",
        "  #  ha and va stand for the horizontal and vertical alignment\n",
        "  \n",
        "     plots.annotate(format(bar.get_height(), '.2f'),\n",
        "                   (bar.get_x() + bar.get_width() / 2,\n",
        "                    bar.get_height()), ha='center', va='center',\n",
        "                   size=15, xytext=(0, 8),\n",
        "                   textcoords='offset points')\n",
        "    \n",
        "plt.title('Total Number of Bookings by Market Segment', weight='bold')  #  title to represent graph objective\n",
        "plt.xlabel('Market Segment', weight='bold')  #  label at x-axis with font style as bold\n",
        "plt.ylabel(' Segment Count' , weight='bold') #  label at y-axis with font style as bold"
      ],
      "execution_count": 47,
      "outputs": [
        {
          "output_type": "execute_result",
          "data": {
            "text/plain": [
              "Text(0, 0.5, ' Segment Count')"
            ]
          },
          "metadata": {},
          "execution_count": 47
        },
        {
          "output_type": "display_data",
          "data": {
            "image/png": "[encoded data removed]",
            "text/plain": [
              "<Figure size 936x504 with 1 Axes>"
            ]
          },
          "metadata": {
            "needs_background": "light"
          }
        }
      ]
    },
    {
      "cell_type": "markdown",
      "metadata": {
        "id": "Ah7RifSlpEoO"
      },
      "source": [
        "# Conclusion drawn:\n",
        "\n",
        "*  The above graph depicts that around 60 % of bookings are made via Online Travel Agents. \n",
        "\n",
        "*  Around 15 % of bookings are made via Offline Travel Agents.\n",
        "\n",
        "*   Online Travelling Agent is the market segment which is having highest number of bookings. \n",
        "\n",
        "*   Complementary and Aviation market segment have least number of bookings.\n",
        "\n",
        "\n",
        "\n",
        "\n"
      ]
    },
    {
      "cell_type": "markdown",
      "metadata": {
        "id": "MbDWGsOG1_Fq"
      },
      "source": [
        "# 4. Total Nights Spent by Guests at the Hotel by Market Segment and Hotel Type"
      ]
    },
    {
      "cell_type": "code",
      "metadata": {
        "id": "y9wWvSBBeBLH"
      },
      "source": [
        "#  finding total number of night spent by customers in Resort and City Hotel according to their repective Market Segment\n",
        "#  add columns 'stays_in_week_nights' and 'stays_in_weekend_nights' to find the total number of night stay \n",
        "#  store the add result of both columns in a new column of dataframe named as \"total_nights_stay\"\n",
        "\n",
        "hotel_booking_df['total_nights_stay'] = hotel_booking_df['stays_in_week_nights'] + hotel_booking_df['stays_in_weekend_nights']\n"
      ],
      "execution_count": 48,
      "outputs": []
    },
    {
      "cell_type": "code",
      "metadata": {
        "id": "pk1JAJ0ad3hm",
        "colab": {
          "base_uri": "https://localhost:8080/",
          "height": 312
        },
        "outputId": "dcf7fd26-18cc-498e-b38b-1b6674234400"
      },
      "source": [
        "hotel_booking_df.tail() # find last five records and check whether new column \"total_night_stays\" is create in our df or not"
      ],
      "execution_count": 49,
      "outputs": [
        {
          "output_type": "execute_result",
          "data": {
            "text/html": [
              "<div>\n",
              "<style scoped>\n",
              "    .dataframe tbody tr th:only-of-type {\n",
              "        vertical-align: middle;\n",
              "    }\n",
              "\n",
              "    .dataframe tbody tr th {\n",
              "        vertical-align: top;\n",
              "    }\n",
              "\n",
              "    .dataframe thead th {\n",
              "        text-align: right;\n",
              "    }\n",
              "</style>\n",
              "<table border=\"1\" class=\"dataframe\">\n",
              "  <thead>\n",
              "    <tr style=\"text-align: right;\">\n",
              "      <th></th>\n",
              "      <th>hotel</th>\n",
              "      <th>is_canceled</th>\n",
              "      <th>lead_time</th>\n",
              "      <th>arrival_date_year</th>\n",
              "      <th>arrival_date_month</th>\n",
              "      <th>arrival_date_week_number</th>\n",
              "      <th>arrival_date_day_of_month</th>\n",
              "      <th>stays_in_weekend_nights</th>\n",
              "      <th>stays_in_week_nights</th>\n",
              "      <th>adults</th>\n",
              "      <th>children</th>\n",
              "      <th>babies</th>\n",
              "      <th>meal</th>\n",
              "      <th>country</th>\n",
              "      <th>market_segment</th>\n",
              "      <th>distribution_channel</th>\n",
              "      <th>is_repeated_guest</th>\n",
              "      <th>previous_cancellations</th>\n",
              "      <th>previous_bookings_not_canceled</th>\n",
              "      <th>reserved_room_type</th>\n",
              "      <th>assigned_room_type</th>\n",
              "      <th>booking_changes</th>\n",
              "      <th>deposit_type</th>\n",
              "      <th>days_in_waiting_list</th>\n",
              "      <th>customer_type</th>\n",
              "      <th>adr</th>\n",
              "      <th>required_car_parking_spaces</th>\n",
              "      <th>total_of_special_requests</th>\n",
              "      <th>reservation_status</th>\n",
              "      <th>total_nights_stay</th>\n",
              "    </tr>\n",
              "  </thead>\n",
              "  <tbody>\n",
              "    <tr>\n",
              "      <th>119385</th>\n",
              "      <td>City Hotel</td>\n",
              "      <td>0</td>\n",
              "      <td>23</td>\n",
              "      <td>2017</td>\n",
              "      <td>August</td>\n",
              "      <td>35</td>\n",
              "      <td>30</td>\n",
              "      <td>2</td>\n",
              "      <td>5</td>\n",
              "      <td>2</td>\n",
              "      <td>0.0</td>\n",
              "      <td>0</td>\n",
              "      <td>BB</td>\n",
              "      <td>BEL</td>\n",
              "      <td>Offline TA/TO</td>\n",
              "      <td>TA/TO</td>\n",
              "      <td>0</td>\n",
              "      <td>0</td>\n",
              "      <td>0</td>\n",
              "      <td>A</td>\n",
              "      <td>A</td>\n",
              "      <td>0</td>\n",
              "      <td>No Deposit</td>\n",
              "      <td>0</td>\n",
              "      <td>Transient</td>\n",
              "      <td>96.14</td>\n",
              "      <td>0</td>\n",
              "      <td>0</td>\n",
              "      <td>Check-Out</td>\n",
              "      <td>7</td>\n",
              "    </tr>\n",
              "    <tr>\n",
              "      <th>119386</th>\n",
              "      <td>City Hotel</td>\n",
              "      <td>0</td>\n",
              "      <td>102</td>\n",
              "      <td>2017</td>\n",
              "      <td>August</td>\n",
              "      <td>35</td>\n",
              "      <td>31</td>\n",
              "      <td>2</td>\n",
              "      <td>5</td>\n",
              "      <td>3</td>\n",
              "      <td>0.0</td>\n",
              "      <td>0</td>\n",
              "      <td>BB</td>\n",
              "      <td>FRA</td>\n",
              "      <td>Online TA</td>\n",
              "      <td>TA/TO</td>\n",
              "      <td>0</td>\n",
              "      <td>0</td>\n",
              "      <td>0</td>\n",
              "      <td>E</td>\n",
              "      <td>E</td>\n",
              "      <td>0</td>\n",
              "      <td>No Deposit</td>\n",
              "      <td>0</td>\n",
              "      <td>Transient</td>\n",
              "      <td>225.43</td>\n",
              "      <td>0</td>\n",
              "      <td>2</td>\n",
              "      <td>Check-Out</td>\n",
              "      <td>7</td>\n",
              "    </tr>\n",
              "    <tr>\n",
              "      <th>119387</th>\n",
              "      <td>City Hotel</td>\n",
              "      <td>0</td>\n",
              "      <td>34</td>\n",
              "      <td>2017</td>\n",
              "      <td>August</td>\n",
              "      <td>35</td>\n",
              "      <td>31</td>\n",
              "      <td>2</td>\n",
              "      <td>5</td>\n",
              "      <td>2</td>\n",
              "      <td>0.0</td>\n",
              "      <td>0</td>\n",
              "      <td>BB</td>\n",
              "      <td>DEU</td>\n",
              "      <td>Online TA</td>\n",
              "      <td>TA/TO</td>\n",
              "      <td>0</td>\n",
              "      <td>0</td>\n",
              "      <td>0</td>\n",
              "      <td>D</td>\n",
              "      <td>D</td>\n",
              "      <td>0</td>\n",
              "      <td>No Deposit</td>\n",
              "      <td>0</td>\n",
              "      <td>Transient</td>\n",
              "      <td>157.71</td>\n",
              "      <td>0</td>\n",
              "      <td>4</td>\n",
              "      <td>Check-Out</td>\n",
              "      <td>7</td>\n",
              "    </tr>\n",
              "    <tr>\n",
              "      <th>119388</th>\n",
              "      <td>City Hotel</td>\n",
              "      <td>0</td>\n",
              "      <td>109</td>\n",
              "      <td>2017</td>\n",
              "      <td>August</td>\n",
              "      <td>35</td>\n",
              "      <td>31</td>\n",
              "      <td>2</td>\n",
              "      <td>5</td>\n",
              "      <td>2</td>\n",
              "      <td>0.0</td>\n",
              "      <td>0</td>\n",
              "      <td>BB</td>\n",
              "      <td>GBR</td>\n",
              "      <td>Online TA</td>\n",
              "      <td>TA/TO</td>\n",
              "      <td>0</td>\n",
              "      <td>0</td>\n",
              "      <td>0</td>\n",
              "      <td>A</td>\n",
              "      <td>A</td>\n",
              "      <td>0</td>\n",
              "      <td>No Deposit</td>\n",
              "      <td>0</td>\n",
              "      <td>Transient</td>\n",
              "      <td>104.40</td>\n",
              "      <td>0</td>\n",
              "      <td>0</td>\n",
              "      <td>Check-Out</td>\n",
              "      <td>7</td>\n",
              "    </tr>\n",
              "    <tr>\n",
              "      <th>119389</th>\n",
              "      <td>City Hotel</td>\n",
              "      <td>0</td>\n",
              "      <td>205</td>\n",
              "      <td>2017</td>\n",
              "      <td>August</td>\n",
              "      <td>35</td>\n",
              "      <td>29</td>\n",
              "      <td>2</td>\n",
              "      <td>7</td>\n",
              "      <td>2</td>\n",
              "      <td>0.0</td>\n",
              "      <td>0</td>\n",
              "      <td>HB</td>\n",
              "      <td>DEU</td>\n",
              "      <td>Online TA</td>\n",
              "      <td>TA/TO</td>\n",
              "      <td>0</td>\n",
              "      <td>0</td>\n",
              "      <td>0</td>\n",
              "      <td>A</td>\n",
              "      <td>A</td>\n",
              "      <td>0</td>\n",
              "      <td>No Deposit</td>\n",
              "      <td>0</td>\n",
              "      <td>Transient</td>\n",
              "      <td>151.20</td>\n",
              "      <td>0</td>\n",
              "      <td>2</td>\n",
              "      <td>Check-Out</td>\n",
              "      <td>9</td>\n",
              "    </tr>\n",
              "  </tbody>\n",
              "</table>\n",
              "</div>"
            ],
            "text/plain": [
              "             hotel  is_canceled  ...  reservation_status  total_nights_stay\n",
              "119385  City Hotel            0  ...           Check-Out                  7\n",
              "119386  City Hotel            0  ...           Check-Out                  7\n",
              "119387  City Hotel            0  ...           Check-Out                  7\n",
              "119388  City Hotel            0  ...           Check-Out                  7\n",
              "119389  City Hotel            0  ...           Check-Out                  9\n",
              "\n",
              "[5 rows x 30 columns]"
            ]
          },
          "metadata": {},
          "execution_count": 49
        }
      ]
    },
    {
      "cell_type": "code",
      "metadata": {
        "id": "E1CfXUO8xwby",
        "colab": {
          "base_uri": "https://localhost:8080/",
          "height": 476
        },
        "outputId": "addca77c-0ea2-43d2-85a5-d5ff256f91e7"
      },
      "source": [
        "#  plot the barplot using seaborn library\n",
        "#  x and y are columns to be plot on graph \n",
        "#  data is name of dataframe \n",
        "#  hue parameter represents which column in the data frame, you want to use for color encoding.\n",
        "#  palette parameter is used for different color patterns\n",
        "\n",
        "sns.barplot(x = \"market_segment\", y = \"total_nights_stay\", data = hotel_booking_df, hue = \"hotel\", palette = 'Set1')\n",
        "plt.title('Total  no. of nights spent by guests by Market Segment according to the Hotel Type', weight='bold')  #  set title\n",
        "plt.xlabel('Market Segment',weight='bold')  #  set label at x_axis with bold as fontstyle\n",
        "plt.ylabel('Number of Days',weight='bold')  #  set label at y_axis with bold as fontstyle\n",
        "\n"
      ],
      "execution_count": 50,
      "outputs": [
        {
          "output_type": "execute_result",
          "data": {
            "text/plain": [
              "Text(0, 0.5, 'Number of Days')"
            ]
          },
          "metadata": {},
          "execution_count": 50
        },
        {
          "output_type": "display_data",
          "data": {
            "image/png": "[encoded data removed]",
            "text/plain": [
              "<Figure size 936x504 with 1 Axes>"
            ]
          },
          "metadata": {
            "needs_background": "light"
          }
        }
      ]
    },
    {
      "cell_type": "markdown",
      "metadata": {
        "id": "NIBUjfroum3F"
      },
      "source": [
        "#Conclusion drawn:\n",
        "\n",
        "*   For City hotel, most of customers prefers to stay between 1-4 nights.\n",
        "\n",
        "*   For Resort hotel,most of customers prefers to stay for more than 3 nights.\n",
        "\n",
        "*  Guest from aviation segment do not prefer to stay at Resort hotel.\n",
        "\n",
        "*  Customers from Offline Travelling Agents are prefer to stay more nights at the Resort hotel.\n",
        "\n",
        "\n",
        "\n"
      ]
    },
    {
      "cell_type": "markdown",
      "metadata": {
        "id": "lO2Gl-YiYC5l"
      },
      "source": [
        "#5. Which was the most booked accommodation type (Single, Couple, Family)?"
      ]
    },
    {
      "cell_type": "code",
      "metadata": {
        "id": "yheFNX4H7BWZ"
      },
      "source": [
        "#  Select single, couple and family  with kids from the dataframe\n",
        "\n",
        "#  use (if) conditional statment to fecth dataset accroding to the following criteria:\n",
        "#    if adults = 1 and children = 0 and babies = 0 ,then a customer is a single person\n",
        "#    if adults = 2 and children = 0 and babies = 0 ,then a customer is a couple\n",
        "#    if  sum of (adults + children + babies) > 2 ,then a customer is a family with children or babies\n",
        "\n",
        "single   = hotel_booking_df[(hotel_booking_df.adults==1) & (hotel_booking_df.children==0) & (hotel_booking_df.babies==0)]\n",
        "couple   = hotel_booking_df[(hotel_booking_df.adults==2) & (hotel_booking_df.children==0) & (hotel_booking_df.babies==0)]\n",
        "family   = hotel_booking_df[ (hotel_booking_df.adults + hotel_booking_df.children + hotel_booking_df.babies) > 2]\n",
        "\n",
        "\n",
        "#  Make the list of Category names, and their total percentage\n",
        "names = ['Single', 'Couple (No Children)', 'Family']   #  list of category to represent in x-axis in graph\n",
        "\n",
        "#  shape[0] will display the number of rows/entries in each category : single , couple and family\n",
        "count_data = [single.shape[0],couple.shape[0], family.shape[0]]  #  list of shape of each category\n",
        "\n",
        "#  find the percentage for each category to represent in y-axis on graph\n",
        "count_percent = [each_category/hotel_booking_df.shape[0]*100 for each_category in count_data]\n",
        "\n",
        "\n",
        "\n"
      ],
      "execution_count": 51,
      "outputs": []
    },
    {
      "cell_type": "code",
      "metadata": {
        "colab": {
          "base_uri": "https://localhost:8080/",
          "height": 476
        },
        "id": "1lszhpEoc5_f",
        "outputId": "e0db500b-a0a8-4ba0-eb97-5c01abae4f6e"
      },
      "source": [
        "# plot the bar plot of seaborn library to represent the categories of customers\n",
        "plots = sns.barplot(names,count_percent)\n",
        "\n",
        "# below is the code to annotate bars i.e. write values on top of each bar \n",
        "\n",
        "#  Iterrating over the bars one-by-one\n",
        "\n",
        "for bar in plots.patches:\n",
        "   \n",
        "  #  Using Matplotlib's annotate function and\n",
        "  #  passing the coordinates where the annotation shall be done\n",
        "  #  Annotation means adding notes to a diagram stating what values do it represents. \n",
        "  #  It often gets tiresome for the user to read the values from the graph when the graph is scaled down \n",
        "  #  or is overly populated\n",
        "  #  x-coordinate: bar.get_x() + bar.get_width() / 2\n",
        "  #  y-coordinate: bar.get_height()\n",
        "  #  free space to be left to make graph pleasing: (0, 8)\n",
        "  #  ha and va stand for the horizontal and vertical alignment\n",
        "     plots.annotate(format(bar.get_height(), '.2f') + '%' ,\n",
        "                   (bar.get_x() + bar.get_width() / 2,\n",
        "                    bar.get_height()), ha='center', va='center',\n",
        "                   size=15, xytext=(0, 8),\n",
        "                   textcoords='offset points')\n",
        "    \n",
        "plt.title('Most booked accomodation type', weight='bold')  #  title to represent graph objective\n",
        "plt.xlabel('Accomodation Type', weight='bold')  #  label at x-axis with font style as bold\n",
        "plt.ylabel('Booking Count Percent(%)' , weight='bold') #  label at y-axis with font style as bold\n"
      ],
      "execution_count": 52,
      "outputs": [
        {
          "output_type": "execute_result",
          "data": {
            "text/plain": [
              "Text(0, 0.5, 'Booking Count Percent(%)')"
            ]
          },
          "metadata": {},
          "execution_count": 52
        },
        {
          "output_type": "display_data",
          "data": {
            "image/png": "[encoded data removed]",
            "text/plain": [
              "<Figure size 936x504 with 1 Axes>"
            ]
          },
          "metadata": {
            "needs_background": "light"
          }
        }
      ]
    },
    {
      "cell_type": "markdown",
      "metadata": {
        "id": "oqn_9BUD5AfJ"
      },
      "source": [
        "# Conclusion drawn:\n",
        "\n",
        "*   Couples have highest accomdation as compares to other categories.\n",
        "*   Family have least accomdation.\n",
        "*  Around 65% of bookings has been occupied by couples.\n",
        "*  Only 15% of bookings has been occupied by famililes.\n",
        "\n",
        "\n"
      ]
    },
    {
      "cell_type": "markdown",
      "metadata": {
        "id": "Amqi6LiBZCe-"
      },
      "source": [
        "#6.How does the Price Per Night (ADR) Vary Over the Year by Hotel Type? "
      ]
    },
    {
      "cell_type": "code",
      "metadata": {
        "id": "SAXeSBBbczpn",
        "colab": {
          "base_uri": "https://localhost:8080/",
          "height": 799
        },
        "outputId": "4838519f-fff5-4880-ff56-10325bb7c8a5"
      },
      "source": [
        "#  apply groupby on the column arrival_date_month and hotel to find the mean of adr(average daily rate) to find the change in adr monthly  \n",
        "#  represent whole year by monthly adr for the respective hotel \n",
        "#  round() method is used to round a number to a given precision in decimal digits.\n",
        "hotel_booking_df.groupby(['arrival_date_month','hotel'])['adr'].mean().round().reset_index()\n"
      ],
      "execution_count": 53,
      "outputs": [
        {
          "output_type": "execute_result",
          "data": {
            "text/html": [
              "<div>\n",
              "<style scoped>\n",
              "    .dataframe tbody tr th:only-of-type {\n",
              "        vertical-align: middle;\n",
              "    }\n",
              "\n",
              "    .dataframe tbody tr th {\n",
              "        vertical-align: top;\n",
              "    }\n",
              "\n",
              "    .dataframe thead th {\n",
              "        text-align: right;\n",
              "    }\n",
              "</style>\n",
              "<table border=\"1\" class=\"dataframe\">\n",
              "  <thead>\n",
              "    <tr style=\"text-align: right;\">\n",
              "      <th></th>\n",
              "      <th>arrival_date_month</th>\n",
              "      <th>hotel</th>\n",
              "      <th>adr</th>\n",
              "    </tr>\n",
              "  </thead>\n",
              "  <tbody>\n",
              "    <tr>\n",
              "      <th>0</th>\n",
              "      <td>January</td>\n",
              "      <td>City Hotel</td>\n",
              "      <td>85.0</td>\n",
              "    </tr>\n",
              "    <tr>\n",
              "      <th>1</th>\n",
              "      <td>January</td>\n",
              "      <td>Resort Hotel</td>\n",
              "      <td>49.0</td>\n",
              "    </tr>\n",
              "    <tr>\n",
              "      <th>2</th>\n",
              "      <td>February</td>\n",
              "      <td>City Hotel</td>\n",
              "      <td>88.0</td>\n",
              "    </tr>\n",
              "    <tr>\n",
              "      <th>3</th>\n",
              "      <td>February</td>\n",
              "      <td>Resort Hotel</td>\n",
              "      <td>54.0</td>\n",
              "    </tr>\n",
              "    <tr>\n",
              "      <th>4</th>\n",
              "      <td>March</td>\n",
              "      <td>City Hotel</td>\n",
              "      <td>93.0</td>\n",
              "    </tr>\n",
              "    <tr>\n",
              "      <th>5</th>\n",
              "      <td>March</td>\n",
              "      <td>Resort Hotel</td>\n",
              "      <td>58.0</td>\n",
              "    </tr>\n",
              "    <tr>\n",
              "      <th>6</th>\n",
              "      <td>April</td>\n",
              "      <td>City Hotel</td>\n",
              "      <td>115.0</td>\n",
              "    </tr>\n",
              "    <tr>\n",
              "      <th>7</th>\n",
              "      <td>April</td>\n",
              "      <td>Resort Hotel</td>\n",
              "      <td>79.0</td>\n",
              "    </tr>\n",
              "    <tr>\n",
              "      <th>8</th>\n",
              "      <td>May</td>\n",
              "      <td>City Hotel</td>\n",
              "      <td>126.0</td>\n",
              "    </tr>\n",
              "    <tr>\n",
              "      <th>9</th>\n",
              "      <td>May</td>\n",
              "      <td>Resort Hotel</td>\n",
              "      <td>81.0</td>\n",
              "    </tr>\n",
              "    <tr>\n",
              "      <th>10</th>\n",
              "      <td>June</td>\n",
              "      <td>City Hotel</td>\n",
              "      <td>122.0</td>\n",
              "    </tr>\n",
              "    <tr>\n",
              "      <th>11</th>\n",
              "      <td>June</td>\n",
              "      <td>Resort Hotel</td>\n",
              "      <td>112.0</td>\n",
              "    </tr>\n",
              "    <tr>\n",
              "      <th>12</th>\n",
              "      <td>July</td>\n",
              "      <td>City Hotel</td>\n",
              "      <td>117.0</td>\n",
              "    </tr>\n",
              "    <tr>\n",
              "      <th>13</th>\n",
              "      <td>July</td>\n",
              "      <td>Resort Hotel</td>\n",
              "      <td>145.0</td>\n",
              "    </tr>\n",
              "    <tr>\n",
              "      <th>14</th>\n",
              "      <td>August</td>\n",
              "      <td>City Hotel</td>\n",
              "      <td>121.0</td>\n",
              "    </tr>\n",
              "    <tr>\n",
              "      <th>15</th>\n",
              "      <td>August</td>\n",
              "      <td>Resort Hotel</td>\n",
              "      <td>163.0</td>\n",
              "    </tr>\n",
              "    <tr>\n",
              "      <th>16</th>\n",
              "      <td>September</td>\n",
              "      <td>City Hotel</td>\n",
              "      <td>118.0</td>\n",
              "    </tr>\n",
              "    <tr>\n",
              "      <th>17</th>\n",
              "      <td>September</td>\n",
              "      <td>Resort Hotel</td>\n",
              "      <td>103.0</td>\n",
              "    </tr>\n",
              "    <tr>\n",
              "      <th>18</th>\n",
              "      <td>October</td>\n",
              "      <td>City Hotel</td>\n",
              "      <td>107.0</td>\n",
              "    </tr>\n",
              "    <tr>\n",
              "      <th>19</th>\n",
              "      <td>October</td>\n",
              "      <td>Resort Hotel</td>\n",
              "      <td>64.0</td>\n",
              "    </tr>\n",
              "    <tr>\n",
              "      <th>20</th>\n",
              "      <td>November</td>\n",
              "      <td>City Hotel</td>\n",
              "      <td>89.0</td>\n",
              "    </tr>\n",
              "    <tr>\n",
              "      <th>21</th>\n",
              "      <td>November</td>\n",
              "      <td>Resort Hotel</td>\n",
              "      <td>49.0</td>\n",
              "    </tr>\n",
              "    <tr>\n",
              "      <th>22</th>\n",
              "      <td>December</td>\n",
              "      <td>City Hotel</td>\n",
              "      <td>92.0</td>\n",
              "    </tr>\n",
              "    <tr>\n",
              "      <th>23</th>\n",
              "      <td>December</td>\n",
              "      <td>Resort Hotel</td>\n",
              "      <td>62.0</td>\n",
              "    </tr>\n",
              "  </tbody>\n",
              "</table>\n",
              "</div>"
            ],
            "text/plain": [
              "   arrival_date_month         hotel    adr\n",
              "0             January    City Hotel   85.0\n",
              "1             January  Resort Hotel   49.0\n",
              "2            February    City Hotel   88.0\n",
              "3            February  Resort Hotel   54.0\n",
              "4               March    City Hotel   93.0\n",
              "5               March  Resort Hotel   58.0\n",
              "6               April    City Hotel  115.0\n",
              "7               April  Resort Hotel   79.0\n",
              "8                 May    City Hotel  126.0\n",
              "9                 May  Resort Hotel   81.0\n",
              "10               June    City Hotel  122.0\n",
              "11               June  Resort Hotel  112.0\n",
              "12               July    City Hotel  117.0\n",
              "13               July  Resort Hotel  145.0\n",
              "14             August    City Hotel  121.0\n",
              "15             August  Resort Hotel  163.0\n",
              "16          September    City Hotel  118.0\n",
              "17          September  Resort Hotel  103.0\n",
              "18            October    City Hotel  107.0\n",
              "19            October  Resort Hotel   64.0\n",
              "20           November    City Hotel   89.0\n",
              "21           November  Resort Hotel   49.0\n",
              "22           December    City Hotel   92.0\n",
              "23           December  Resort Hotel   62.0"
            ]
          },
          "metadata": {},
          "execution_count": 53
        }
      ]
    },
    {
      "cell_type": "code",
      "metadata": {
        "colab": {
          "base_uri": "https://localhost:8080/",
          "height": 494
        },
        "id": "EbcG8mzlcyps",
        "outputId": "653bed1c-3ee1-4bd1-aaa5-6404223bde7e"
      },
      "source": [
        "#  plot the line graph of seaborn library to represent adr monthly for each hotel type\n",
        "#  x and y are columns to be plot on graph \n",
        "#  data is name of dataframe \n",
        "#  hue parameter represents which column in the data frame, you want to use for color encoding.\n",
        "#  palette parameter is used for different color patterns\n",
        "#  hue_order represents the order of hotel shown by bars\n",
        "\n",
        "sns.lineplot(x = \"arrival_date_month\", y=\"adr\", hue=\"hotel\", data=hotel_booking_df, hue_order = [\"City Hotel\", \"Resort Hotel\"],palette= 'Set1')\n",
        "plt.title(\"Room price per night vary over the year\", weight = 'bold') #  set the title of graph\n",
        "plt.xlabel(\"Arrival Month\" , weight='bold')  #  label at x-axis with font style as bold\n",
        "plt.xticks(rotation=45)  # rotate the x-axis label by 45 degree angle\n",
        "plt.ylabel(\"ADR\" , weight='bold')   #  label at y-axis with font style as bold\n",
        "\n",
        "#  to show a graph.It is necessary when you are using Matplotlib in terminal and optional when you are using notebook\n",
        "plt.show()"
      ],
      "execution_count": 54,
      "outputs": [
        {
          "output_type": "display_data",
          "data": {
            "image/png": "[encoded data removed]",
            "text/plain": [
              "<Figure size 936x504 with 1 Axes>"
            ]
          },
          "metadata": {
            "needs_background": "light"
          }
        }
      ]
    },
    {
      "cell_type": "markdown",
      "metadata": {
        "id": "NJHKmTfn8dRy"
      },
      "source": [
        "# Conclusion drawn\n",
        "\n",
        "*  For Resort hotel, the price per night (ADR) is more expensive during July and August.\n",
        "\n",
        "*   For City hotel, the price per night (ADR) is more expensive during May , June and July. \n",
        "\n",
        "\n"
      ]
    },
    {
      "cell_type": "markdown",
      "metadata": {
        "id": "BYwDaj9ggwPP"
      },
      "source": [
        "# 7. What is the percentage of booking for each year?"
      ]
    },
    {
      "cell_type": "code",
      "metadata": {
        "colab": {
          "base_uri": "https://localhost:8080/",
          "height": 143
        },
        "id": "KKPQby2b7FEx",
        "outputId": "db48ffca-7bb9-4f06-b0f8-387b60551f93"
      },
      "source": [
        "#  create a new dataframe to show the percentage of bookings for each year\n",
        "#  new df is created by pd.DataFrame() and columns will have list of columns name for new df.\n",
        "#  value_counts() method is used to count the total bookings yearly \n",
        "\n",
        "each_year_bookings = pd.DataFrame(hotel_booking_df['arrival_date_year'].value_counts().reset_index().values, columns=[\"year\", \"booking_count\"])\n",
        "each_year_bookings"
      ],
      "execution_count": 55,
      "outputs": [
        {
          "output_type": "execute_result",
          "data": {
            "text/html": [
              "<div>\n",
              "<style scoped>\n",
              "    .dataframe tbody tr th:only-of-type {\n",
              "        vertical-align: middle;\n",
              "    }\n",
              "\n",
              "    .dataframe tbody tr th {\n",
              "        vertical-align: top;\n",
              "    }\n",
              "\n",
              "    .dataframe thead th {\n",
              "        text-align: right;\n",
              "    }\n",
              "</style>\n",
              "<table border=\"1\" class=\"dataframe\">\n",
              "  <thead>\n",
              "    <tr style=\"text-align: right;\">\n",
              "      <th></th>\n",
              "      <th>year</th>\n",
              "      <th>booking_count</th>\n",
              "    </tr>\n",
              "  </thead>\n",
              "  <tbody>\n",
              "    <tr>\n",
              "      <th>0</th>\n",
              "      <td>2016</td>\n",
              "      <td>40238</td>\n",
              "    </tr>\n",
              "    <tr>\n",
              "      <th>1</th>\n",
              "      <td>2017</td>\n",
              "      <td>28684</td>\n",
              "    </tr>\n",
              "    <tr>\n",
              "      <th>2</th>\n",
              "      <td>2015</td>\n",
              "      <td>12843</td>\n",
              "    </tr>\n",
              "  </tbody>\n",
              "</table>\n",
              "</div>"
            ],
            "text/plain": [
              "   year  booking_count\n",
              "0  2016          40238\n",
              "1  2017          28684\n",
              "2  2015          12843"
            ]
          },
          "metadata": {},
          "execution_count": 55
        }
      ]
    },
    {
      "cell_type": "code",
      "metadata": {
        "colab": {
          "base_uri": "https://localhost:8080/",
          "height": 143
        },
        "id": "dg_0lV83pwAE",
        "outputId": "1c003048-e0e2-4db5-b3e6-ba6f1068c9d5"
      },
      "source": [
        "#  sort new df yearly to represnt in graph\n",
        "#  sort_values() is used to sort data according to a column \n",
        "\n",
        "each_year_bookings = each_year_bookings.sort_values(by='year', ascending=True)\n",
        "\n",
        "#  calculating percentage for each year bookings \n",
        "#  sum() method is used to find the sum of column \"booking_count\" to calculate the total bookings\n",
        "#  round() method is used to get percentage upto two decimal places\n",
        "\n",
        "each_year_bookings['bookings_percent'] =  round((100 * each_year_bookings['booking_count'] / sum(each_year_bookings['booking_count'])) , 2)\n",
        "each_year_bookings"
      ],
      "execution_count": 56,
      "outputs": [
        {
          "output_type": "execute_result",
          "data": {
            "text/html": [
              "<div>\n",
              "<style scoped>\n",
              "    .dataframe tbody tr th:only-of-type {\n",
              "        vertical-align: middle;\n",
              "    }\n",
              "\n",
              "    .dataframe tbody tr th {\n",
              "        vertical-align: top;\n",
              "    }\n",
              "\n",
              "    .dataframe thead th {\n",
              "        text-align: right;\n",
              "    }\n",
              "</style>\n",
              "<table border=\"1\" class=\"dataframe\">\n",
              "  <thead>\n",
              "    <tr style=\"text-align: right;\">\n",
              "      <th></th>\n",
              "      <th>year</th>\n",
              "      <th>booking_count</th>\n",
              "      <th>bookings_percent</th>\n",
              "    </tr>\n",
              "  </thead>\n",
              "  <tbody>\n",
              "    <tr>\n",
              "      <th>2</th>\n",
              "      <td>2015</td>\n",
              "      <td>12843</td>\n",
              "      <td>15.71</td>\n",
              "    </tr>\n",
              "    <tr>\n",
              "      <th>0</th>\n",
              "      <td>2016</td>\n",
              "      <td>40238</td>\n",
              "      <td>49.21</td>\n",
              "    </tr>\n",
              "    <tr>\n",
              "      <th>1</th>\n",
              "      <td>2017</td>\n",
              "      <td>28684</td>\n",
              "      <td>35.08</td>\n",
              "    </tr>\n",
              "  </tbody>\n",
              "</table>\n",
              "</div>"
            ],
            "text/plain": [
              "   year  booking_count  bookings_percent\n",
              "2  2015          12843             15.71\n",
              "0  2016          40238             49.21\n",
              "1  2017          28684             35.08"
            ]
          },
          "metadata": {},
          "execution_count": 56
        }
      ]
    },
    {
      "cell_type": "code",
      "metadata": {
        "colab": {
          "base_uri": "https://localhost:8080/",
          "height": 476
        },
        "id": "CP9bjut_s01A",
        "outputId": "481ae3d6-b7ed-4d20-fb1b-bc24d87c9b30"
      },
      "source": [
        "#  plot the horizontal bar graph to represent yearly data\n",
        "#  plot() is a df method to plot a graph and \"barh\" is used to make horizontal bar graph\n",
        "#  color is parameter to represent the color of each bar \n",
        "\n",
        "plots = each_year_bookings.plot.barh(x='year', y='bookings_percent',color='red')\n",
        "\n",
        "#  below is the code to annotate bars i.e. write values on top of each bar \n",
        "\n",
        "#  Iterrating over the bars one-by-one\n",
        "for bar in plots.patches:\n",
        "   \n",
        "  #  Using Matplotlib's annotate function and\n",
        "  #  passing the coordinates where the annotation shall be done\n",
        "  #  Annotation means adding notes to a diagram stating what values do it represents. \n",
        "  #  It often gets tiresome for the user to read the values from the graph when the graph is scaled down \n",
        "  #  or is overly populated\n",
        "  #  x-coordinate: bar.get_y() + bar.get_width() \n",
        "  #  y-coordinate: bar.get_width()\n",
        " \n",
        "   \n",
        "    plots.text(\n",
        "        bar.get_width() + 0.3, \n",
        "        bar.get_y() + 0.25,\n",
        "        \" {:,}\".format(bar.get_width()) + '%', \n",
        "        fontsize=12 )\n",
        "        \n",
        "plt.title(\"Yearwise total bookings for both hotels\" , weight=\"bold\")  #  set the title of a graph\n",
        "plt.xlabel(\"Bookings (%)\" , weight='bold')  #  set label at x-axis having \"bold\" as font style\n",
        "plt.ylabel(\"Year\" , weight=\"bold\")  #  set label at y-axis having \"bold\" as font style"
      ],
      "execution_count": 57,
      "outputs": [
        {
          "output_type": "execute_result",
          "data": {
            "text/plain": [
              "Text(0, 0.5, 'Year')"
            ]
          },
          "metadata": {},
          "execution_count": 57
        },
        {
          "output_type": "display_data",
          "data": {
            "image/png": "[encoded data removed]",
            "text/plain": [
              "<Figure size 936x504 with 1 Axes>"
            ]
          },
          "metadata": {
            "needs_background": "light"
          }
        }
      ]
    },
    {
      "cell_type": "markdown",
      "metadata": {
        "id": "S1h9aHoQFpEn"
      },
      "source": [
        "# Conclusion drawn:\n",
        "\n",
        "*   In year 2015, total booking is approximately 15.63 %\n",
        "*   In year 2016, total booking is approximately 49.21 %\n",
        "*   In year 2017, total booking is approximately 35.17 %\n",
        "\n"
      ]
    },
    {
      "cell_type": "markdown",
      "metadata": {
        "id": "aHhW1eRM_l6U"
      },
      "source": [
        "# 8. What is the Effect of Meal type on Cancellations?"
      ]
    },
    {
      "cell_type": "code",
      "metadata": {
        "colab": {
          "base_uri": "https://localhost:8080/"
        },
        "id": "gEHnGKhfD0kW",
        "outputId": "e2e9e451-402f-4735-a9c2-34417047f741"
      },
      "source": [
        "#  apply groupby on \"meal\" column to see the total count for cancelled and non-cancelled bookings that have effect on meal type \n",
        "hotel_booking_df.groupby('meal')['is_canceled'].value_counts(normalize = True)"
      ],
      "execution_count": 58,
      "outputs": [
        {
          "output_type": "execute_result",
          "data": {
            "text/plain": [
              "meal       is_canceled\n",
              "BB         0              0.744335\n",
              "           1              0.255665\n",
              "FB         0              0.746479\n",
              "           1              0.253521\n",
              "HB         0              0.748889\n",
              "           1              0.251111\n",
              "SC         0              0.651086\n",
              "           1              0.348914\n",
              "Undefined  0              0.859410\n",
              "           1              0.140590\n",
              "Name: is_canceled, dtype: float64"
            ]
          },
          "metadata": {},
          "execution_count": 58
        }
      ]
    },
    {
      "cell_type": "code",
      "metadata": {
        "id": "cMWz2mSnFG8u",
        "colab": {
          "base_uri": "https://localhost:8080/",
          "height": 476
        },
        "outputId": "7b75d381-9a90-4f35-b564-20f9fbf7ff20"
      },
      "source": [
        "#  plot countplot of seaborn library to represent mael type data on cancel bookings\n",
        "plots = sns.countplot(x= 'meal',hue = 'is_canceled',data = hotel_booking_df,palette= 'Greens_r')\n",
        "\n",
        "# below is the code to annotate bars i.e. write values on top of each bar \n",
        "\n",
        "# Iterrating over the bars one-by-one\n",
        "for bar in plots.patches:\n",
        "   \n",
        "  #  Using Matplotlib's annotate function and\n",
        "  #  passing the coordinates where the annotation shall be done\n",
        "  #  Annotation means adding notes to a diagram stating what values do it represents. \n",
        "  #  It often gets tiresome for the user to read the values from the graph when the graph is scaled down \n",
        "  #  or is overly populated\n",
        "  # x-coordinate: bar.get_x() + bar.get_width() / 2\n",
        "  # y-coordinate: bar.get_height()\n",
        "  # free space to be left to make graph pleasing: (0, 8)\n",
        "  # ha and va stand for the horizontal and vertical alignment\n",
        "  \n",
        "    plots.annotate(format(bar.get_height(), '.2f'),\n",
        "                   (bar.get_x() + bar.get_width() / 2,\n",
        "                    bar.get_height()), ha='center', va='center',\n",
        "                   size=12, xytext=(0, 8),\n",
        "                   textcoords='offset points')\n",
        "    \n",
        "plt.title ('Effect of Meal type on Cancellations',weight = 'bold')  #  set the title of a graph\n",
        "plt.xlabel(\"Meal type\" ,weight = 'bold')  #  set label on x-axis having font style as bold\n",
        "plt.ylabel('Reservation Count' , weight = 'bold')  # set label on y-axis having font style as bold"
      ],
      "execution_count": 59,
      "outputs": [
        {
          "output_type": "execute_result",
          "data": {
            "text/plain": [
              "Text(0, 0.5, 'Reservation Count')"
            ]
          },
          "metadata": {},
          "execution_count": 59
        },
        {
          "output_type": "display_data",
          "data": {
            "image/png": "[encoded data removed]",
            "text/plain": [
              "<Figure size 936x504 with 1 Axes>"
            ]
          },
          "metadata": {
            "needs_background": "light"
          }
        }
      ]
    },
    {
      "cell_type": "markdown",
      "metadata": {
        "id": "yz9yxeaRySxL"
      },
      "source": [
        "# Conclusion drawn:\n",
        "\n",
        "* From the graph, we can depict that more number of cancellation are for BB(Bed and breakfast) meal type.\n",
        "\n",
        "* Approximately 25 % of BB(bed and breakfast) meal were cancelled by the guest.\n",
        "\n",
        "* Approximately 14 % of undefined/SC(no meal package) were cancelled.\n",
        "\n",
        "\n"
      ]
    },
    {
      "cell_type": "markdown",
      "metadata": {
        "id": "Xj4Z6qmDP8C8"
      },
      "source": [
        "#Heat map for all colulmns to show relationship between columns:"
      ]
    },
    {
      "cell_type": "code",
      "metadata": {
        "colab": {
          "base_uri": "https://localhost:8080/",
          "height": 663
        },
        "id": "orcRE18gOxUH",
        "outputId": "704a291a-562e-4337-cbef-4103a6c192af"
      },
      "source": [
        "#  heatmap for the entire dataset\n",
        "#  Finding the relation between the variables \n",
        "#  corr() is a dataframe method to find the correlation between variables \n",
        "corr_relation =hotel_booking_df.corr()\n",
        "corr_relation"
      ],
      "execution_count": 60,
      "outputs": [
        {
          "output_type": "execute_result",
          "data": {
            "text/html": [
              "<div>\n",
              "<style scoped>\n",
              "    .dataframe tbody tr th:only-of-type {\n",
              "        vertical-align: middle;\n",
              "    }\n",
              "\n",
              "    .dataframe tbody tr th {\n",
              "        vertical-align: top;\n",
              "    }\n",
              "\n",
              "    .dataframe thead th {\n",
              "        text-align: right;\n",
              "    }\n",
              "</style>\n",
              "<table border=\"1\" class=\"dataframe\">\n",
              "  <thead>\n",
              "    <tr style=\"text-align: right;\">\n",
              "      <th></th>\n",
              "      <th>is_canceled</th>\n",
              "      <th>lead_time</th>\n",
              "      <th>arrival_date_year</th>\n",
              "      <th>arrival_date_week_number</th>\n",
              "      <th>arrival_date_day_of_month</th>\n",
              "      <th>stays_in_weekend_nights</th>\n",
              "      <th>stays_in_week_nights</th>\n",
              "      <th>adults</th>\n",
              "      <th>children</th>\n",
              "      <th>babies</th>\n",
              "      <th>is_repeated_guest</th>\n",
              "      <th>previous_cancellations</th>\n",
              "      <th>previous_bookings_not_canceled</th>\n",
              "      <th>booking_changes</th>\n",
              "      <th>days_in_waiting_list</th>\n",
              "      <th>adr</th>\n",
              "      <th>required_car_parking_spaces</th>\n",
              "      <th>total_of_special_requests</th>\n",
              "      <th>total_nights_stay</th>\n",
              "    </tr>\n",
              "  </thead>\n",
              "  <tbody>\n",
              "    <tr>\n",
              "      <th>is_canceled</th>\n",
              "      <td>1.000000</td>\n",
              "      <td>0.176729</td>\n",
              "      <td>0.082396</td>\n",
              "      <td>-0.002207</td>\n",
              "      <td>0.005598</td>\n",
              "      <td>0.058686</td>\n",
              "      <td>0.082254</td>\n",
              "      <td>0.087113</td>\n",
              "      <td>0.057455</td>\n",
              "      <td>-0.018444</td>\n",
              "      <td>-0.089585</td>\n",
              "      <td>0.047348</td>\n",
              "      <td>-0.050556</td>\n",
              "      <td>-0.088465</td>\n",
              "      <td>0.000843</td>\n",
              "      <td>0.137465</td>\n",
              "      <td>-0.177899</td>\n",
              "      <td>-0.113633</td>\n",
              "      <td>0.083378</td>\n",
              "    </tr>\n",
              "    <tr>\n",
              "      <th>lead_time</th>\n",
              "      <td>0.176729</td>\n",
              "      <td>1.000000</td>\n",
              "      <td>0.128865</td>\n",
              "      <td>0.095027</td>\n",
              "      <td>0.014564</td>\n",
              "      <td>0.253777</td>\n",
              "      <td>0.326027</td>\n",
              "      <td>0.182864</td>\n",
              "      <td>0.039704</td>\n",
              "      <td>-0.001351</td>\n",
              "      <td>-0.161972</td>\n",
              "      <td>0.000308</td>\n",
              "      <td>-0.083474</td>\n",
              "      <td>0.065308</td>\n",
              "      <td>0.115320</td>\n",
              "      <td>0.072362</td>\n",
              "      <td>-0.086655</td>\n",
              "      <td>0.054836</td>\n",
              "      <td>0.338442</td>\n",
              "    </tr>\n",
              "    <tr>\n",
              "      <th>arrival_date_year</th>\n",
              "      <td>0.082396</td>\n",
              "      <td>0.128865</td>\n",
              "      <td>1.000000</td>\n",
              "      <td>-0.527254</td>\n",
              "      <td>-0.012520</td>\n",
              "      <td>-0.002293</td>\n",
              "      <td>-0.006246</td>\n",
              "      <td>0.050252</td>\n",
              "      <td>0.015078</td>\n",
              "      <td>-0.023061</td>\n",
              "      <td>0.029283</td>\n",
              "      <td>-0.046644</td>\n",
              "      <td>0.031732</td>\n",
              "      <td>0.003909</td>\n",
              "      <td>-0.029138</td>\n",
              "      <td>0.164611</td>\n",
              "      <td>-0.039592</td>\n",
              "      <td>0.054335</td>\n",
              "      <td>-0.005518</td>\n",
              "    </tr>\n",
              "    <tr>\n",
              "      <th>arrival_date_week_number</th>\n",
              "      <td>-0.002207</td>\n",
              "      <td>0.095027</td>\n",
              "      <td>-0.527254</td>\n",
              "      <td>1.000000</td>\n",
              "      <td>0.093066</td>\n",
              "      <td>0.025441</td>\n",
              "      <td>0.023436</td>\n",
              "      <td>0.019569</td>\n",
              "      <td>0.005332</td>\n",
              "      <td>0.013300</td>\n",
              "      <td>-0.036866</td>\n",
              "      <td>0.004064</td>\n",
              "      <td>-0.020394</td>\n",
              "      <td>0.006467</td>\n",
              "      <td>0.002257</td>\n",
              "      <td>0.097148</td>\n",
              "      <td>0.005140</td>\n",
              "      <td>0.047889</td>\n",
              "      <td>0.027037</td>\n",
              "    </tr>\n",
              "    <tr>\n",
              "      <th>arrival_date_day_of_month</th>\n",
              "      <td>0.005598</td>\n",
              "      <td>0.014564</td>\n",
              "      <td>-0.012520</td>\n",
              "      <td>0.093066</td>\n",
              "      <td>1.000000</td>\n",
              "      <td>-0.014809</td>\n",
              "      <td>-0.025748</td>\n",
              "      <td>0.001975</td>\n",
              "      <td>0.014361</td>\n",
              "      <td>-0.001370</td>\n",
              "      <td>-0.005061</td>\n",
              "      <td>-0.008811</td>\n",
              "      <td>0.000434</td>\n",
              "      <td>0.006962</td>\n",
              "      <td>0.004848</td>\n",
              "      <td>0.018363</td>\n",
              "      <td>0.008159</td>\n",
              "      <td>-0.003354</td>\n",
              "      <td>-0.024760</td>\n",
              "    </tr>\n",
              "    <tr>\n",
              "      <th>stays_in_weekend_nights</th>\n",
              "      <td>0.058686</td>\n",
              "      <td>0.253777</td>\n",
              "      <td>-0.002293</td>\n",
              "      <td>0.025441</td>\n",
              "      <td>-0.014809</td>\n",
              "      <td>1.000000</td>\n",
              "      <td>0.540513</td>\n",
              "      <td>0.102547</td>\n",
              "      <td>0.024749</td>\n",
              "      <td>0.014029</td>\n",
              "      <td>-0.111691</td>\n",
              "      <td>-0.019914</td>\n",
              "      <td>-0.054999</td>\n",
              "      <td>0.051481</td>\n",
              "      <td>-0.036778</td>\n",
              "      <td>0.033700</td>\n",
              "      <td>-0.044879</td>\n",
              "      <td>0.029046</td>\n",
              "      <td>0.779001</td>\n",
              "    </tr>\n",
              "    <tr>\n",
              "      <th>stays_in_week_nights</th>\n",
              "      <td>0.082254</td>\n",
              "      <td>0.326027</td>\n",
              "      <td>-0.006246</td>\n",
              "      <td>0.023436</td>\n",
              "      <td>-0.025748</td>\n",
              "      <td>0.540513</td>\n",
              "      <td>1.000000</td>\n",
              "      <td>0.113265</td>\n",
              "      <td>0.027274</td>\n",
              "      <td>0.016115</td>\n",
              "      <td>-0.117790</td>\n",
              "      <td>-0.016796</td>\n",
              "      <td>-0.057386</td>\n",
              "      <td>0.085868</td>\n",
              "      <td>0.001684</td>\n",
              "      <td>0.048303</td>\n",
              "      <td>-0.046715</td>\n",
              "      <td>0.034770</td>\n",
              "      <td>0.948597</td>\n",
              "    </tr>\n",
              "    <tr>\n",
              "      <th>adults</th>\n",
              "      <td>0.087113</td>\n",
              "      <td>0.182864</td>\n",
              "      <td>0.050252</td>\n",
              "      <td>0.019569</td>\n",
              "      <td>0.001975</td>\n",
              "      <td>0.102547</td>\n",
              "      <td>0.113265</td>\n",
              "      <td>1.000000</td>\n",
              "      <td>0.016221</td>\n",
              "      <td>0.021200</td>\n",
              "      <td>-0.217422</td>\n",
              "      <td>-0.050192</td>\n",
              "      <td>-0.146613</td>\n",
              "      <td>-0.063129</td>\n",
              "      <td>-0.021493</td>\n",
              "      <td>0.334797</td>\n",
              "      <td>0.007784</td>\n",
              "      <td>0.145541</td>\n",
              "      <td>0.122988</td>\n",
              "    </tr>\n",
              "    <tr>\n",
              "      <th>children</th>\n",
              "      <td>0.057455</td>\n",
              "      <td>0.039704</td>\n",
              "      <td>0.015078</td>\n",
              "      <td>0.005332</td>\n",
              "      <td>0.014361</td>\n",
              "      <td>0.024749</td>\n",
              "      <td>0.027274</td>\n",
              "      <td>0.016221</td>\n",
              "      <td>1.000000</td>\n",
              "      <td>0.018587</td>\n",
              "      <td>-0.043428</td>\n",
              "      <td>-0.016859</td>\n",
              "      <td>-0.026975</td>\n",
              "      <td>0.033911</td>\n",
              "      <td>-0.017473</td>\n",
              "      <td>0.260876</td>\n",
              "      <td>0.030154</td>\n",
              "      <td>0.050781</td>\n",
              "      <td>0.029637</td>\n",
              "    </tr>\n",
              "    <tr>\n",
              "      <th>babies</th>\n",
              "      <td>-0.018444</td>\n",
              "      <td>-0.001351</td>\n",
              "      <td>-0.023061</td>\n",
              "      <td>0.013300</td>\n",
              "      <td>-0.001370</td>\n",
              "      <td>0.014029</td>\n",
              "      <td>0.016115</td>\n",
              "      <td>0.021200</td>\n",
              "      <td>0.018587</td>\n",
              "      <td>1.000000</td>\n",
              "      <td>-0.012734</td>\n",
              "      <td>-0.004879</td>\n",
              "      <td>-0.008860</td>\n",
              "      <td>0.079294</td>\n",
              "      <td>-0.006486</td>\n",
              "      <td>0.017785</td>\n",
              "      <td>0.027620</td>\n",
              "      <td>0.093147</td>\n",
              "      <td>0.017287</td>\n",
              "    </tr>\n",
              "    <tr>\n",
              "      <th>is_repeated_guest</th>\n",
              "      <td>-0.089585</td>\n",
              "      <td>-0.161972</td>\n",
              "      <td>0.029283</td>\n",
              "      <td>-0.036866</td>\n",
              "      <td>-0.005061</td>\n",
              "      <td>-0.111691</td>\n",
              "      <td>-0.117790</td>\n",
              "      <td>-0.217422</td>\n",
              "      <td>-0.043428</td>\n",
              "      <td>-0.012734</td>\n",
              "      <td>1.000000</td>\n",
              "      <td>0.208183</td>\n",
              "      <td>0.449844</td>\n",
              "      <td>0.005773</td>\n",
              "      <td>-0.012249</td>\n",
              "      <td>-0.184051</td>\n",
              "      <td>0.074570</td>\n",
              "      <td>-0.004712</td>\n",
              "      <td>-0.129800</td>\n",
              "    </tr>\n",
              "    <tr>\n",
              "      <th>previous_cancellations</th>\n",
              "      <td>0.047348</td>\n",
              "      <td>0.000308</td>\n",
              "      <td>-0.046644</td>\n",
              "      <td>0.004064</td>\n",
              "      <td>-0.008811</td>\n",
              "      <td>-0.019914</td>\n",
              "      <td>-0.016796</td>\n",
              "      <td>-0.050192</td>\n",
              "      <td>-0.016859</td>\n",
              "      <td>-0.004879</td>\n",
              "      <td>0.208183</td>\n",
              "      <td>1.000000</td>\n",
              "      <td>0.398270</td>\n",
              "      <td>-0.009068</td>\n",
              "      <td>0.006306</td>\n",
              "      <td>-0.053318</td>\n",
              "      <td>-0.001914</td>\n",
              "      <td>0.004952</td>\n",
              "      <td>-0.020009</td>\n",
              "    </tr>\n",
              "    <tr>\n",
              "      <th>previous_bookings_not_canceled</th>\n",
              "      <td>-0.050556</td>\n",
              "      <td>-0.083474</td>\n",
              "      <td>0.031732</td>\n",
              "      <td>-0.020394</td>\n",
              "      <td>0.000434</td>\n",
              "      <td>-0.054999</td>\n",
              "      <td>-0.057386</td>\n",
              "      <td>-0.146613</td>\n",
              "      <td>-0.026975</td>\n",
              "      <td>-0.008860</td>\n",
              "      <td>0.449844</td>\n",
              "      <td>0.398270</td>\n",
              "      <td>1.000000</td>\n",
              "      <td>0.007123</td>\n",
              "      <td>-0.005707</td>\n",
              "      <td>-0.095062</td>\n",
              "      <td>0.041600</td>\n",
              "      <td>0.027639</td>\n",
              "      <td>-0.063457</td>\n",
              "    </tr>\n",
              "    <tr>\n",
              "      <th>booking_changes</th>\n",
              "      <td>-0.088465</td>\n",
              "      <td>0.065308</td>\n",
              "      <td>0.003909</td>\n",
              "      <td>0.006467</td>\n",
              "      <td>0.006962</td>\n",
              "      <td>0.051481</td>\n",
              "      <td>0.085868</td>\n",
              "      <td>-0.063129</td>\n",
              "      <td>0.033911</td>\n",
              "      <td>0.079294</td>\n",
              "      <td>0.005773</td>\n",
              "      <td>-0.009068</td>\n",
              "      <td>0.007123</td>\n",
              "      <td>1.000000</td>\n",
              "      <td>0.031024</td>\n",
              "      <td>-0.012951</td>\n",
              "      <td>0.044468</td>\n",
              "      <td>0.008536</td>\n",
              "      <td>0.083360</td>\n",
              "    </tr>\n",
              "    <tr>\n",
              "      <th>days_in_waiting_list</th>\n",
              "      <td>0.000843</td>\n",
              "      <td>0.115320</td>\n",
              "      <td>-0.029138</td>\n",
              "      <td>0.002257</td>\n",
              "      <td>0.004848</td>\n",
              "      <td>-0.036778</td>\n",
              "      <td>0.001684</td>\n",
              "      <td>-0.021493</td>\n",
              "      <td>-0.017473</td>\n",
              "      <td>-0.006486</td>\n",
              "      <td>-0.012249</td>\n",
              "      <td>0.006306</td>\n",
              "      <td>-0.005707</td>\n",
              "      <td>0.031024</td>\n",
              "      <td>1.000000</td>\n",
              "      <td>-0.031589</td>\n",
              "      <td>-0.013825</td>\n",
              "      <td>-0.048222</td>\n",
              "      <td>-0.012579</td>\n",
              "    </tr>\n",
              "    <tr>\n",
              "      <th>adr</th>\n",
              "      <td>0.137465</td>\n",
              "      <td>0.072362</td>\n",
              "      <td>0.164611</td>\n",
              "      <td>0.097148</td>\n",
              "      <td>0.018363</td>\n",
              "      <td>0.033700</td>\n",
              "      <td>0.048303</td>\n",
              "      <td>0.334797</td>\n",
              "      <td>0.260876</td>\n",
              "      <td>0.017785</td>\n",
              "      <td>-0.184051</td>\n",
              "      <td>-0.053318</td>\n",
              "      <td>-0.095062</td>\n",
              "      <td>-0.012951</td>\n",
              "      <td>-0.031589</td>\n",
              "      <td>1.000000</td>\n",
              "      <td>0.019692</td>\n",
              "      <td>0.146346</td>\n",
              "      <td>0.048676</td>\n",
              "    </tr>\n",
              "    <tr>\n",
              "      <th>required_car_parking_spaces</th>\n",
              "      <td>-0.177899</td>\n",
              "      <td>-0.086655</td>\n",
              "      <td>-0.039592</td>\n",
              "      <td>0.005140</td>\n",
              "      <td>0.008159</td>\n",
              "      <td>-0.044879</td>\n",
              "      <td>-0.046715</td>\n",
              "      <td>0.007784</td>\n",
              "      <td>0.030154</td>\n",
              "      <td>0.027620</td>\n",
              "      <td>0.074570</td>\n",
              "      <td>-0.001914</td>\n",
              "      <td>0.041600</td>\n",
              "      <td>0.044468</td>\n",
              "      <td>-0.013825</td>\n",
              "      <td>0.019692</td>\n",
              "      <td>1.000000</td>\n",
              "      <td>0.044933</td>\n",
              "      <td>-0.051698</td>\n",
              "    </tr>\n",
              "    <tr>\n",
              "      <th>total_of_special_requests</th>\n",
              "      <td>-0.113633</td>\n",
              "      <td>0.054836</td>\n",
              "      <td>0.054335</td>\n",
              "      <td>0.047889</td>\n",
              "      <td>-0.003354</td>\n",
              "      <td>0.029046</td>\n",
              "      <td>0.034770</td>\n",
              "      <td>0.145541</td>\n",
              "      <td>0.050781</td>\n",
              "      <td>0.093147</td>\n",
              "      <td>-0.004712</td>\n",
              "      <td>0.004952</td>\n",
              "      <td>0.027639</td>\n",
              "      <td>0.008536</td>\n",
              "      <td>-0.048222</td>\n",
              "      <td>0.146346</td>\n",
              "      <td>0.044933</td>\n",
              "      <td>1.000000</td>\n",
              "      <td>0.036839</td>\n",
              "    </tr>\n",
              "    <tr>\n",
              "      <th>total_nights_stay</th>\n",
              "      <td>0.083378</td>\n",
              "      <td>0.338442</td>\n",
              "      <td>-0.005518</td>\n",
              "      <td>0.027037</td>\n",
              "      <td>-0.024760</td>\n",
              "      <td>0.779001</td>\n",
              "      <td>0.948597</td>\n",
              "      <td>0.122988</td>\n",
              "      <td>0.029637</td>\n",
              "      <td>0.017287</td>\n",
              "      <td>-0.129800</td>\n",
              "      <td>-0.020009</td>\n",
              "      <td>-0.063457</td>\n",
              "      <td>0.083360</td>\n",
              "      <td>-0.012579</td>\n",
              "      <td>0.048676</td>\n",
              "      <td>-0.051698</td>\n",
              "      <td>0.036839</td>\n",
              "      <td>1.000000</td>\n",
              "    </tr>\n",
              "  </tbody>\n",
              "</table>\n",
              "</div>"
            ],
            "text/plain": [
              "                                is_canceled  ...  total_nights_stay\n",
              "is_canceled                        1.000000  ...           0.083378\n",
              "lead_time                          0.176729  ...           0.338442\n",
              "arrival_date_year                  0.082396  ...          -0.005518\n",
              "arrival_date_week_number          -0.002207  ...           0.027037\n",
              "arrival_date_day_of_month          0.005598  ...          -0.024760\n",
              "stays_in_weekend_nights            0.058686  ...           0.779001\n",
              "stays_in_week_nights               0.082254  ...           0.948597\n",
              "adults                             0.087113  ...           0.122988\n",
              "children                           0.057455  ...           0.029637\n",
              "babies                            -0.018444  ...           0.017287\n",
              "is_repeated_guest                 -0.089585  ...          -0.129800\n",
              "previous_cancellations             0.047348  ...          -0.020009\n",
              "previous_bookings_not_canceled    -0.050556  ...          -0.063457\n",
              "booking_changes                   -0.088465  ...           0.083360\n",
              "days_in_waiting_list               0.000843  ...          -0.012579\n",
              "adr                                0.137465  ...           0.048676\n",
              "required_car_parking_spaces       -0.177899  ...          -0.051698\n",
              "total_of_special_requests         -0.113633  ...           0.036839\n",
              "total_nights_stay                  0.083378  ...           1.000000\n",
              "\n",
              "[19 rows x 19 columns]"
            ]
          },
          "metadata": {},
          "execution_count": 60
        }
      ]
    },
    {
      "cell_type": "code",
      "metadata": {
        "colab": {
          "base_uri": "https://localhost:8080/",
          "height": 724
        },
        "id": "VPDOmE3lP_7t",
        "outputId": "2f502189-27d8-4f35-c81c-1c091cf203d3"
      },
      "source": [
        "# plot heatmap for whole dataset\n",
        "plt.figure(figsize=(20,10))\n",
        "sns.heatmap(corr_relation, cmap= \"coolwarm\" , annot=True) "
      ],
      "execution_count": 61,
      "outputs": [
        {
          "output_type": "execute_result",
          "data": {
            "text/plain": [
              "<matplotlib.axes._subplots.AxesSubplot at 0x7f704d3510d0>"
            ]
          },
          "metadata": {},
          "execution_count": 61
        },
        {
          "output_type": "display_data",
          "data": {
            "image/png": "[encoded data removed]",
            "text/plain": [
              "<Figure size 1440x720 with 2 Axes>"
            ]
          },
          "metadata": {
            "needs_background": "light"
          }
        }
      ]
    },
    {
      "cell_type": "markdown",
      "metadata": {
        "id": "wFsBybN5IX__"
      },
      "source": [
        "# Insights :-\n"
      ]
    },
    {
      "cell_type": "markdown",
      "metadata": {
        "id": "htr8Uug-IjL8"
      },
      "source": [
        "1. \n",
        "* More than 60 % of the population booked the City hotel.\n",
        "\n",
        "2. \n",
        "* After analyzing the monthwise bookings for both hotels.We learnt that most of the bookings were made from July to August. And the least bookings were made at the start and end of the year.\n",
        "\n",
        "3. \n",
        "* Almost 25% of the bookings were cancelled.Number of bookings cancelled in City hotel is more as compared to Resort hotel.\n",
        "\n",
        "* In order to minimize the cancellation, the hotel must keep an eye on the pricing of the hotel stays on other channels, including OTAs(Online travelling agency) that the hotels are not partnering with. This is to ensure that their customers don’t jump to re-booking their hotel rooms on other channels at lower prices.\n",
        "\n",
        "4.  \n",
        "* Bookings via Online TA are more as compared to other market segments like offline.  \n",
        "* Hotel can increase their bookings via offline by direct interaction with the customer over phone calls and emails. If they directly get booking from customers then it saves their OTAs(Online travelling agency) commission.Answering queries quickly and comprehensively will also help their guests to feel good. Their interactions with your hotel, in turn helping to boost your reputation.\n",
        "\n",
        "5. \n",
        "* Couple is the most popular accomdation type having highest number of bookings. \n",
        "\n",
        "* Hotel can make arrangements accordingly which are best suited for couples.\n",
        "\n",
        "6. \n",
        "We have seen that the duration of stay in nights by guest is:\n",
        "* For Resort hotel, the average duration of stay is 3-7 days.\n",
        "* For City hotel, the average duration of stay is 1-4 days\n",
        "\n",
        "7. \n",
        "* After analysing three years of hotel booking data,We have learnt that bookings has jumped to more than 300% in year 2016 as compare to 2015. \n",
        "And there is drop in bookings by 30% in year 2017 as compare to 2016 figures.\n",
        "\n",
        "* Hotel may use some strategies to increase his bookings every year .They can offer discounts and figure out when things are busy, steady, and slow and then adjust their prices accordingly.\n",
        "\n",
        "8. \n",
        "* Families (with kids) is the least accomodation type.\n",
        "\n",
        "9. \n",
        "* After analyzing the effect of cancellation  on meal type ,We can say that BB(Bed and Breakfast) meal type is the most affected meal which is cancelled by guest.\n",
        "\n",
        "10. \n",
        "* After analysing the ADR(Price per night) for both hotel,We have drawn the conclusion that ADR is expensive in between the May-August.These months have highest booking and it could be reason for high ADR during this period.\n",
        "\n",
        "* Hotel can reduce ADR to attract more guest and increase the number of bookings during this period.\n"
      ]
    }
  ]
}